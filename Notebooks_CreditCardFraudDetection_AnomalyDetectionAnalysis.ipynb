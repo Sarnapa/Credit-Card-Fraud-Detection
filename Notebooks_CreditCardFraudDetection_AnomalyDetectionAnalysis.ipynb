{
  "nbformat": 4,
  "nbformat_minor": 0,
  "metadata": {
    "colab": {
      "provenance": [],
      "collapsed_sections": [
        "NLpm9wWPHDTc",
        "ZyRJMd0dHQ96",
        "_ukLASdfHVai"
      ],
      "include_colab_link": true
    },
    "kernelspec": {
      "name": "python3",
      "display_name": "Python 3"
    },
    "language_info": {
      "name": "python"
    }
  },
  "cells": [
    {
      "cell_type": "markdown",
      "metadata": {
        "id": "view-in-github",
        "colab_type": "text"
      },
      "source": [
        "<a href=\"https://colab.research.google.com/github/Sarnapa/Credit-Card-Fraud-Detection/blob/main/Notebooks_CreditCardFraudDetection_AnomalyDetectionAnalysis.ipynb\" target=\"_parent\"><img src=\"https://colab.research.google.com/assets/colab-badge.svg\" alt=\"Open In Colab\"/></a>"
      ]
    },
    {
      "cell_type": "markdown",
      "source": [
        "# Temat zadania: Analityczny - detekcja anomalii\n",
        "\n"
      ],
      "metadata": {
        "id": "zpPMSLkvZP26"
      }
    },
    {
      "cell_type": "markdown",
      "source": [
        "**Autorzy: Michał Bartnicki, Michał Piotrak**\n",
        "\n",
        "**Kod zadania: DAz11**\n",
        "\n",
        "**Wybrany zbiór danych: [Credit Card Fraud Detection](https://www.kaggle.com/datasets/mlg-ulb/creditcardfraud)**"
      ],
      "metadata": {
        "id": "9Jl5x2knZZYD"
      }
    },
    {
      "cell_type": "markdown",
      "source": [
        "#Wprowadzenie"
      ],
      "metadata": {
        "id": "Nq6lfl4QKx2R"
      }
    },
    {
      "cell_type": "markdown",
      "source": [
        "TODO: Zrobie na koniec jak będzie wiadome co mamy. Tutaj krótki opis jakie mamy rozdziały + info o aktualizacji założeń względem dokumentacji wstępnej"
      ],
      "metadata": {
        "id": "4QLd6V4oK2L4"
      }
    },
    {
      "cell_type": "markdown",
      "source": [
        "# Przygotowanie oraz konfiguracja środowiska uruchomieniowego"
      ],
      "metadata": {
        "id": "jJkQwQauZjz0"
      }
    },
    {
      "cell_type": "markdown",
      "source": [
        "W tej sekcji umieszczamy listę zmiennych konfiguracyjnych, które mają wpływ na wykonanie przetwarzania zawartego w danym notatniku. Poza tym, przygotowaliśmy fragment skryptu, który zadba o instalacje niezbędnych bibliotek zewnętrznych."
      ],
      "metadata": {
        "id": "fmcZ14wBZ1En"
      }
    },
    {
      "cell_type": "code",
      "source": [
        "# Lista zmiennych konfiguracyjnych\n",
        "\n",
        "# Flaga, której ustawienie umożliwia szybsze wykonanie przetwarzania zawartego w notatniku\n",
        "# w celu demonstracyjnym. Wiąże się z wczytaniem mniejszej ilości danych ze zbioru źródłowego.\n",
        "QUICK_MODE = False\n",
        "# Procent danych, który bierzemy pod uwagę przy pracy w trybie QUICK_MODE\n",
        "QUICK_MODE_DATA_PERCENTAGE = 0.05\n",
        "# Liczba foldów (warstw, na które został podzielony wejściowy zbiór danych) w k-krotnej walidacji\n",
        "CV_FOLDS_COUNT = 5\n",
        "if QUICK_MODE:\n",
        "  CV_FOLDS_COUNT = 2\n",
        "\n",
        "SEED = 42\n",
        "\n",
        "# Zainstalowanie niezbędnych bibliotek\n",
        "try:\n",
        "  import gdown\n",
        "except ImportError:\n",
        "  !pip install -q gdown\n",
        "\n",
        "try:\n",
        "  import imblearn\n",
        "except ImportError:\n",
        "  !pip install -q imbalanced-learn\n",
        "\n",
        "try:\n",
        "  import matplotlib.pyplot\n",
        "except ImportError:\n",
        "  !pip install -q matplotlib\n",
        "\n",
        "try:\n",
        "  import numpy as np\n",
        "except ImportError:\n",
        "  !pip install -q numpy\n",
        "\n",
        "try:\n",
        "  import pandas as pd\n",
        "except ImportError:\n",
        "  !pip install -q pandas\n",
        "\n",
        "try:\n",
        "  import sklearn\n",
        "except ImportError:\n",
        "  !pip install -q scikit-learn"
      ],
      "metadata": {
        "id": "1MZSAREdIaab"
      },
      "execution_count": null,
      "outputs": []
    },
    {
      "cell_type": "markdown",
      "source": [
        "# Opis danych oraz ich wczytanie\n"
      ],
      "metadata": {
        "id": "WkPt5qrhLW9V"
      }
    },
    {
      "cell_type": "markdown",
      "source": [
        "Wybrany zbiór zawiera zanonimizowane informacje o transakcjach dokonanych za pomocą kart kredytowych przez europejczyków we wrześniu 2013 roku przez okres dwóch dni.\n",
        "\n",
        "Transakcje są opisane przy pomocy następujących cech:\n",
        "\n",
        "\n",
        "* Wektor cech *\\[V1, …, V28\\]* - cechy transakcji po transformacji PCA,\n",
        "* *Time* - upływ czasu w sekundach pomiędzy pierwszą a określoną transakcją (bez transformacji PCA),\n",
        "* *Amount* - kwota transakcji (bez transformacji PCA),\n",
        "* *Class* - klasa transakcji, wartość ”1” - transakcja fałszywa (oszustwo), wartość ”0” - transakcja uczciwa.\n",
        "\n",
        "\n",
        "\n",
        "\n",
        "\n"
      ],
      "metadata": {
        "id": "LWs-ftYiMCtb"
      }
    },
    {
      "cell_type": "markdown",
      "source": [
        "Ze względu na to, że metody nienadzorowane zwracają przy predykcji wartość \"-1\" dla osobnika uznanego za reprezentanta klasy mniejszościowej, a dla klasy większościowej wartość większą niż 0, dokonujemy tutaj odpowiedniego mapowania etykiet, uznając, że etykieta \"-1\" określa przykłady uznane za oszustwa, za to etykieta \"1\" - jako transakcje regularne."
      ],
      "metadata": {
        "id": "hXyapd3eNYPx"
      }
    },
    {
      "cell_type": "code",
      "source": [
        "from enum import Enum\n",
        "\n",
        "class Transaction(Enum):\n",
        "    VALID_TRANSACTION = (1, \"Transakcja regularna\")\n",
        "    FRAUD = (-1, \"Oszustwo\")\n",
        "\n",
        "    def __init__(self, value, label):\n",
        "        self._value_ = value\n",
        "        self.label = label\n",
        "\n",
        "    @classmethod\n",
        "    def map_label(cls, df):\n",
        "        \"\"\"\n",
        "        Mapuje wartości z oryginalnej kolumny \"Class\" (0 - transakcja regularna, 1 - oszustwo) na wartości zdefiniowane w Enum.\n",
        "        \"\"\"\n",
        "        return df.map({0: cls.VALID_TRANSACTION.value, 1: cls.FRAUD.value})\n",
        "\n",
        "    @classmethod\n",
        "    def to_string(cls, val):\n",
        "        \"\"\"\n",
        "        Zwraca postać tekstową etykiety.\n",
        "        \"\"\"\n",
        "        for member in cls:\n",
        "            if member.value == val:\n",
        "                return member.label\n",
        "        return str(val)\n",
        "\n",
        "# Tworzymy mapę: {1: \"Transakcja regularna\", -1: \"Oszustwo\"}, która ułatwi nam interpretację danych / wyników\n",
        "class_labels_map = {t.value: t.label for t in Transaction}"
      ],
      "metadata": {
        "id": "bTFOqOrQNlNK"
      },
      "execution_count": null,
      "outputs": []
    },
    {
      "cell_type": "markdown",
      "source": [
        "Z powodów praktycznych, postanowiliśmy udostępnić dany zbiór danych na własnym dysku Google Drive i stamtąd go pobierać. Korzystając z Kaggle API, musielibyśmy zadbać o kwestie uwierzytelnienia, co uznaliśmy za ewentualne źródło problemów.\n",
        "\n",
        "Zadbaliśmy także o to, żeby dany plik pobierać na dane środowisko uruchomieniowe jeden raz w trakcie jego działania.\n",
        "\n",
        "Poniżej zawarliśmy kod umożliwiający wczytanie danych, odpowiednie ich zmapowanie wynikające ze specyfiki metod nienadzorowanych oraz prezentację trzech pierwszych wierszy, aby lepiej zdać sobie sprawę, jak konkretne dane wyglądają."
      ],
      "metadata": {
        "id": "uZj-vAmHNvLq"
      }
    },
    {
      "cell_type": "code",
      "source": [
        "import os\n",
        "\n",
        "# ID pliku z Google Drive\n",
        "file_id = \"14HSXm9CDBA0DxLfSxGCgXQxUXyBxvfno\"\n",
        "output_path = \"creditcard.csv\"\n",
        "\n",
        "# Pobierz tylko, jeśli pliku jeszcze nie ma\n",
        "if not os.path.exists(output_path):\n",
        "    url = f\"https://drive.google.com/uc?id={file_id}\"\n",
        "    gdown.download(url, output_path, quiet=False)\n",
        "else:\n",
        "    print(\"Plik ze zbiorem danych już istnieje lokalnie.\")\n",
        "\n",
        "# Pobieraj zawsze, gdyby byly nowe pliki\n",
        "!gdown --id 1daNwXGml76GJgdsZ5s5urxgMgPofyHs9 --output Results --folder\n",
        "\n",
        "# Wczytaj do DataFrame\n",
        "df = pd.read_csv(output_path)\n",
        "\n",
        "# Mapowanie etykiet\n",
        "df[\"Class\"] = Transaction.map_label(df[\"Class\"])\n",
        "\n",
        "print(df.head(3))\n"
      ],
      "metadata": {
        "colab": {
          "base_uri": "https://localhost:8080/"
        },
        "id": "AvIrnYe3OzkN",
        "outputId": "586ab799-6eab-4edd-c920-8faaccf68d03"
      },
      "execution_count": null,
      "outputs": [
        {
          "output_type": "stream",
          "name": "stdout",
          "text": [
            "Plik ze zbiorem danych już istnieje lokalnie.\n",
            "/usr/local/lib/python3.11/dist-packages/gdown/__main__.py:140: FutureWarning: Option `--id` was deprecated in version 4.3.1 and will be removed in 5.0. You don't need to pass it anymore to use a file ID.\n",
            "  warnings.warn(\n",
            "Retrieving folder contents\n",
            "Processing file 1okf-jQS2VxOOnaj2K5KqO_jBJjf__xhX random_forest_model.joblib\n",
            "Processing file 1K-DqgUMIo0G6eFRa7XKNzJ1J2VV0kew8 results-random_forest.csv\n",
            "Retrieving folder contents completed\n",
            "Building directory structure\n",
            "Building directory structure completed\n",
            "Downloading...\n",
            "From: https://drive.google.com/uc?id=1okf-jQS2VxOOnaj2K5KqO_jBJjf__xhX\n",
            "To: /content/Results/random_forest_model.joblib\n",
            "100% 15.1M/15.1M [00:00<00:00, 22.1MB/s]\n",
            "Downloading...\n",
            "From: https://drive.google.com/uc?id=1K-DqgUMIo0G6eFRa7XKNzJ1J2VV0kew8\n",
            "To: /content/Results/results-random_forest.csv\n",
            "100% 6.79k/6.79k [00:00<00:00, 23.1MB/s]\n",
            "Download completed\n",
            "   Time        V1        V2        V3        V4        V5        V6        V7  \\\n",
            "0   0.0 -1.359807 -0.072781  2.536347  1.378155 -0.338321  0.462388  0.239599   \n",
            "1   0.0  1.191857  0.266151  0.166480  0.448154  0.060018 -0.082361 -0.078803   \n",
            "2   1.0 -1.358354 -1.340163  1.773209  0.379780 -0.503198  1.800499  0.791461   \n",
            "\n",
            "         V8        V9  ...       V21       V22       V23       V24       V25  \\\n",
            "0  0.098698  0.363787  ... -0.018307  0.277838 -0.110474  0.066928  0.128539   \n",
            "1  0.085102 -0.255425  ... -0.225775 -0.638672  0.101288 -0.339846  0.167170   \n",
            "2  0.247676 -1.514654  ...  0.247998  0.771679  0.909412 -0.689281 -0.327642   \n",
            "\n",
            "        V26       V27       V28  Amount  Class  \n",
            "0 -0.189115  0.133558 -0.021053  149.62      1  \n",
            "1  0.125895 -0.008983  0.014724    2.69      1  \n",
            "2 -0.139097 -0.055353 -0.059752  378.66      1  \n",
            "\n",
            "[3 rows x 31 columns]\n"
          ]
        }
      ]
    },
    {
      "cell_type": "markdown",
      "source": [
        "Poniżej przedstawiamy krótką charakterystykę danych.\n",
        "Warto zauważyć, że zbiór jest wysoce niezbalansowany."
      ],
      "metadata": {
        "id": "OUAhvVNTPec8"
      }
    },
    {
      "cell_type": "code",
      "source": [
        "print(\"Liczba atrybutów:\", df.shape[1] - 1)\n",
        "print(\"Całkowita liczba transakcji:\", df.shape[0], end='\\n\\n')\n",
        "print(\"Odsetek oszustw i transakcji regularnych w całym zbiorze:\\n\\n\",\n",
        "      df['Class'].value_counts(normalize=True).rename(index=class_labels_map), end='\\n\\n')\n",
        "print(\"Całkowita liczba oszustw i transakcji regularnych:\\n\\n\", df['Class'].value_counts().rename(index=class_labels_map))\n"
      ],
      "metadata": {
        "colab": {
          "base_uri": "https://localhost:8080/"
        },
        "id": "fu7GV0LQPkxI",
        "outputId": "296b0553-6273-476c-eee6-682564f47f9d"
      },
      "execution_count": null,
      "outputs": [
        {
          "output_type": "stream",
          "name": "stdout",
          "text": [
            "Liczba atrybutów: 30\n",
            "Całkowita liczba transakcji: 284807\n",
            "\n",
            "Odsetek oszustw i transakcji regularnych w całym zbiorze:\n",
            "\n",
            " Class\n",
            "Transakcja regularna    0.998273\n",
            "Oszustwo                0.001727\n",
            "Name: proportion, dtype: float64\n",
            "\n",
            "Całkowita liczba oszustw i transakcji regularnych:\n",
            "\n",
            " Class\n",
            "Transakcja regularna    284315\n",
            "Oszustwo                   492\n",
            "Name: count, dtype: int64\n"
          ]
        }
      ]
    },
    {
      "cell_type": "markdown",
      "source": [
        "# Przygotowanie danych\n",
        "\n",
        "\n"
      ],
      "metadata": {
        "id": "0MM0xPqIYedF"
      }
    },
    {
      "cell_type": "markdown",
      "source": [
        "Zgodnie z tym co planowaliśmy, aby zwiększyć prawdopodobieństwo uzyskania jak najlepszych rezultatów, przeprowadzimy należyty preprocessing zbioru wejściowego.\n",
        "\n",
        "Będzie on składał się z następujących etapów:\n",
        "\n",
        "\n",
        "* sprawdzenia, czy mamy w zbiorze jakiekolwiek braki danych czy duplikaty,\n",
        "* skalowania cech *Time* oraz *Amount* (w wyniku zastosowania transformacji PCA, wektor cech *\\[V1, ..., V28\\]* powinien być uprzednio odpowiednio wyskalowany),\n",
        "* pomimo zastosowania już transformacji PCA na części parametrów, zbadamy jeszcze korelacje pomiędzy nimi, w celu potencjalnej redukcji wymiarowości.\n",
        "\n",
        "Poza tym, jeśli użytkownik tego notatnika postanowi działać z ustawioną flagą *QUICK_MODE*, przed odpowiednim preprocessingiem, nastąpi ograniczenie ilościowe wejściowego zbioru danych do ustalonego procentu całości, którego wartość możemy podać w sekcji **Przygotowanie oraz konfiguracja środowiska uruchomieniowego**. Przy tej operacji, zadbamy o zachowanie proporcji klas.\n",
        "\n"
      ],
      "metadata": {
        "id": "dYRh-H_kH9Bf"
      }
    },
    {
      "cell_type": "markdown",
      "source": [
        "## Ograniczenie zbioru danych w trybie *QUICK_MODE*"
      ],
      "metadata": {
        "id": "yqC3_qssPsrC"
      }
    },
    {
      "cell_type": "markdown",
      "source": [
        "Tryb *QUICK_MODE* należy uruchomić w przypadku, gdy zależy nam na szybkiej demonstracji całego rozwiązania.\n",
        "\n",
        "Włączenie tego trybu zmniejsza też liczbę foldów otrzymanych w procesie k - krotnej walidacji krzyżowej. W celu zobaczenia, jak się dokładnie zmienia dana wartość, należy wrócić do rozdziału **Przygotowanie oraz konfiguracja środowiska uruchomieniowego**."
      ],
      "metadata": {
        "id": "HLct_y2FUDQM"
      }
    },
    {
      "cell_type": "code",
      "source": [
        "# Do losowania wskazanego procentu danych, z zachowaniem proporcji klas\n",
        "def stratified_sample(df, frac=0.2, seed=SEED):\n",
        "    sampled_parts = []\n",
        "    for label in df[\"Class\"].unique():\n",
        "        part = df[df[\"Class\"] == label].sample(frac=frac, random_state=seed)\n",
        "        sampled_parts.append(part)\n",
        "    return pd.concat(sampled_parts).sample(frac=1, random_state=seed).reset_index(drop=True)\n",
        "\n",
        "# Mniejszy zbiór danych do szybszego testowania z zachowaniem proporcji klas\n",
        "if QUICK_MODE:\n",
        "  df = stratified_sample(df, frac=QUICK_MODE_DATA_PERCENTAGE)"
      ],
      "metadata": {
        "id": "_KRHli4NacSA"
      },
      "execution_count": null,
      "outputs": []
    },
    {
      "cell_type": "markdown",
      "source": [
        "## Usuwanie duplikatów\n",
        "\n",
        "Zbiór posiada następującą liczbę duplikatów:\n",
        "\n"
      ],
      "metadata": {
        "id": "5YzcqfJjKhAQ"
      }
    },
    {
      "cell_type": "code",
      "source": [
        "duplicates = df.duplicated(keep='first')\n",
        "duplicates_count = duplicates.sum()\n",
        "print(duplicates_count)"
      ],
      "metadata": {
        "id": "R78N0igKMvRu",
        "colab": {
          "base_uri": "https://localhost:8080/"
        },
        "outputId": "e6bf93f9-ec51-4d90-ad3b-5febd5b98ae7"
      },
      "execution_count": null,
      "outputs": [
        {
          "output_type": "stream",
          "name": "stdout",
          "text": [
            "1081\n"
          ]
        }
      ]
    },
    {
      "cell_type": "markdown",
      "source": [
        "Oczywiście, należy je usunąć ze zbioru, co czyni poniższy kod:"
      ],
      "metadata": {
        "id": "5JNihzHTM_5s"
      }
    },
    {
      "cell_type": "code",
      "source": [
        "df.drop_duplicates(inplace=True)\n",
        "print(\"Usunięto duplikaty. Pozostało transakcji w zbiorze:\", df.shape[0])\n"
      ],
      "metadata": {
        "id": "WpP1S58LNCgh",
        "colab": {
          "base_uri": "https://localhost:8080/"
        },
        "outputId": "ee0bece0-435f-4058-bd0a-fa18d0b28e21"
      },
      "execution_count": null,
      "outputs": [
        {
          "output_type": "stream",
          "name": "stdout",
          "text": [
            "Usunięto duplikaty. Pozostało transakcji w zbiorze: 283726\n"
          ]
        }
      ]
    },
    {
      "cell_type": "markdown",
      "source": [
        "## Sprawdzanie brakujących danych (NaN / null)\n",
        "Poniżej następujące weryfikacji, czy mamy w zbiorze egzemplarze, których jakieś atrybuty przyjmują wartości puste bądź nieokreślone:"
      ],
      "metadata": {
        "id": "W5Lk7XYONUEY"
      }
    },
    {
      "cell_type": "code",
      "source": [
        "missing_data = df.isnull().values.any()\n",
        "print(f\"Czy zbiór zawiera brakujące dane? Wynik walidacji - {missing_data}\")\n"
      ],
      "metadata": {
        "id": "amyCsncxNrrC",
        "colab": {
          "base_uri": "https://localhost:8080/"
        },
        "outputId": "cd3ba527-a767-48f4-d12b-2916ebd9a7c4"
      },
      "execution_count": null,
      "outputs": [
        {
          "output_type": "stream",
          "name": "stdout",
          "text": [
            "Czy zbiór zawiera brakujące dane? Wynik walidacji - False\n"
          ]
        }
      ]
    },
    {
      "cell_type": "markdown",
      "source": [
        "## Skalowanie atrybutów *Time* oraz *Amount*\n",
        "\n",
        "Większość atrybutów została już wcześniej przeskalowana w wyniku transformacji PCA. Pozostało wykonać to samo dla kolumn:\n",
        "- *Time*\n",
        "- *Amount*\n",
        "\n",
        "W tym celu wykorzystamy [RobustScaler](https://scikit-learn.org/stable/modules/generated/sklearn.preprocessing.RobustScaler.html) z biblioteki scikit-learn, który jest odporny na wartości odstające."
      ],
      "metadata": {
        "id": "fu8j8uWgN4qe"
      }
    },
    {
      "cell_type": "code",
      "source": [
        "from sklearn.preprocessing import RobustScaler\n",
        "\n",
        "if set(['Amount','Time']).issubset(df.columns):\n",
        "  scaler = RobustScaler()\n",
        "  amount_scaled = scaler.fit_transform(df['Amount'].values.reshape(-1, 1))\n",
        "  time_scaled = scaler.fit_transform(df['Time'].values.reshape(-1, 1))\n",
        "  df.drop(['Time', 'Amount'], axis=1, inplace=True)\n",
        "\n",
        "  df.insert(0, 'time_scaled', time_scaled)\n",
        "  df.insert(1, 'amount_scaled', amount_scaled)\n",
        "\n",
        "print(\"Kolumny Amount i Time zostały przeskalowane:\")\n",
        "print(df.head(3))"
      ],
      "metadata": {
        "id": "eFIyKJIWPKM0",
        "colab": {
          "base_uri": "https://localhost:8080/"
        },
        "outputId": "d0cf3304-0083-4ddb-cb90-4f8800963780"
      },
      "execution_count": null,
      "outputs": [
        {
          "output_type": "stream",
          "name": "stdout",
          "text": [
            "Kolumny Amount i Time zostały przeskalowane:\n",
            "   time_scaled  amount_scaled        V1        V2        V3        V4  \\\n",
            "0    -0.995290       1.774718 -1.359807 -0.072781  2.536347  1.378155   \n",
            "1    -0.995290      -0.268530  1.191857  0.266151  0.166480  0.448154   \n",
            "2    -0.995279       4.959811 -1.358354 -1.340163  1.773209  0.379780   \n",
            "\n",
            "         V5        V6        V7        V8  ...       V20       V21       V22  \\\n",
            "0 -0.338321  0.462388  0.239599  0.098698  ...  0.251412 -0.018307  0.277838   \n",
            "1  0.060018 -0.082361 -0.078803  0.085102  ... -0.069083 -0.225775 -0.638672   \n",
            "2 -0.503198  1.800499  0.791461  0.247676  ...  0.524980  0.247998  0.771679   \n",
            "\n",
            "        V23       V24       V25       V26       V27       V28  Class  \n",
            "0 -0.110474  0.066928  0.128539 -0.189115  0.133558 -0.021053      1  \n",
            "1  0.101288 -0.339846  0.167170  0.125895 -0.008983  0.014724      1  \n",
            "2  0.909412 -0.689281 -0.327642 -0.139097 -0.055353 -0.059752      1  \n",
            "\n",
            "[3 rows x 31 columns]\n"
          ]
        }
      ]
    },
    {
      "cell_type": "markdown",
      "source": [
        "## Redukcja wymiarowości\n",
        "Według opisu zbioru danych, dane przeszły tansformację PCA, która jest techniką\n",
        "redukcji wymiarowości, co wskazuje na brak konieczności dalszych redukcji.\n",
        "Sprawdzenie korelacji wszystkich par kolumn potwierdza nasze przypuszczenia."
      ],
      "metadata": {
        "id": "cTs0N8PdRdW0"
      }
    },
    {
      "cell_type": "code",
      "source": [
        "correlation_matrix = df.corr().abs()\n",
        "upper_triangle = correlation_matrix.where(np.triu(np.ones(correlation_matrix.shape), k=1).astype(bool))\n",
        "highest_correlation = upper_triangle.max().max()\n",
        "\n",
        "print(f\"Najwyższa korelacja między dwoma dowolnymi parami atrybutów: {highest_correlation}\")"
      ],
      "metadata": {
        "id": "WJtxnOfja037",
        "colab": {
          "base_uri": "https://localhost:8080/"
        },
        "outputId": "5f650899-d04f-4365-ef3f-25bd078ebcfd"
      },
      "execution_count": null,
      "outputs": [
        {
          "output_type": "stream",
          "name": "stdout",
          "text": [
            "Najwyższa korelacja między dwoma dowolnymi parami atrybutów: 0.5334280139266703\n"
          ]
        }
      ]
    },
    {
      "cell_type": "markdown",
      "source": [
        "# Przygotowanie zbiorów treningowych oraz testowych\n",
        "\n"
      ],
      "metadata": {
        "id": "iHfsvmDzYxYZ"
      }
    },
    {
      "cell_type": "markdown",
      "source": [
        "https://www.kaggle.com/code/janiobachmann/credit-fraud-dealing-with-imbalanced-datasets\n",
        "\n",
        "1. Nie testować na danych, które zostały under lub oversamplowane.\n",
        "\n",
        "2. Tutaj radzą, że jak używamy k krotną walidację to podczas jej robić to under / oversamplowanie\n",
        "\n",
        "Plan:\n",
        "1. Wpleść w k krotną walidację alternatywe ze mozna uzyc undersampling i oversampling - zrobione\n",
        "2. Dla undersamplingu i oversamplingu pokazac liczbe przykladow tych dwoch klas i porownanie z tym jak bylo wczesniej - zrobione\n",
        "\n",
        "Jeszcze do pomyślenia:\n",
        "1. Bo generalnie w praktyce to chyba jest tak, że na początek dzielimy sobie dany zbiór na treningowy i testowy i następnie ten treningowy podajemy działaniu krzyżowej walidacji, gdzie mamy podział na zbiór treningowy i walidacyjny i w wyniku tego możemy stroić parametry tego modelu. A dane testowe ostatecznie służą nam do weryfikacji danego modelu. Do pomyślenia czy tak podejść czy jak jest jest dobrze.\n",
        "\n"
      ],
      "metadata": {
        "id": "PAXmvEjUYcCk"
      }
    },
    {
      "cell_type": "markdown",
      "source": [
        "## Dostępne metody samplingu"
      ],
      "metadata": {
        "id": "2-qAuSniXOR1"
      }
    },
    {
      "cell_type": "code",
      "source": [
        "from enum import Enum\n",
        "from imblearn.over_sampling import SMOTE\n",
        "from imblearn.under_sampling import RandomUnderSampler\n",
        "\n",
        "# Enum do wyboru metody samplingu\n",
        "class SamplingMethod(Enum):\n",
        "  NONE = 0\n",
        "  UNDER = 1\n",
        "  OVER = 2\n",
        "\n",
        "\n",
        "  @staticmethod\n",
        "  def from_string(string: str):\n",
        "      return SamplingMethod[string.split(\".\")[-1]]\n",
        "\n",
        "  def to_string(self):\n",
        "      if self == SamplingMethod.NONE:\n",
        "          return \"Brak próbkowania\"\n",
        "      elif self == SamplingMethod.UNDER:\n",
        "          return \"Undersampling\"\n",
        "      elif self == SamplingMethod.OVER:\n",
        "        return \"Oversampling\"\n",
        "\n",
        "def get_sampler(sampling_method: SamplingMethod, sampling_strategy: float = 1.0, random_seed: int = SEED):\n",
        "    if sampling_method == SamplingMethod.UNDER:\n",
        "        sampler = RandomUnderSampler(sampling_strategy=sampling_strategy, random_state=random_seed)\n",
        "    elif sampling_method == SamplingMethod.OVER:\n",
        "        sampler = SMOTE(sampling_strategy=sampling_strategy, random_state=random_seed)\n",
        "    else:\n",
        "        sampler = None\n",
        "\n",
        "    return sampler"
      ],
      "metadata": {
        "id": "cMOZitoIXlkI"
      },
      "execution_count": null,
      "outputs": []
    },
    {
      "cell_type": "code",
      "source": [],
      "metadata": {
        "id": "qzp0Gb_nAMsK"
      },
      "execution_count": null,
      "outputs": []
    },
    {
      "cell_type": "markdown",
      "source": [
        "## Metoda przygotowująca podziały zbioru danych"
      ],
      "metadata": {
        "id": "0Vm5bPniXXHa"
      }
    },
    {
      "cell_type": "code",
      "source": [
        "import pandas as pd\n",
        "from sklearn.model_selection import StratifiedKFold, train_test_split\n",
        "\n",
        "# Klasa reprezentująca podział danych\n",
        "class DataSplit:\n",
        "    def __init__(self, x_train, x_test, y_train, y_test):\n",
        "        self.x_train = x_train\n",
        "        self.x_test = x_test\n",
        "        self.y_train = y_train\n",
        "        self.y_test = y_test\n",
        "\n",
        "# Funkcja przygotowująca dane\n",
        "def prepare_train_test_data_splits(\n",
        "    data: pd.DataFrame,\n",
        "    use_cv: bool = True,\n",
        "    k: int = 5,\n",
        "    test_data_size: float = 0.2,\n",
        "    sampling_method: SamplingMethod = SamplingMethod.NONE,\n",
        "    sampling_strategy: float = 1.0,\n",
        "    random_seed: int = SEED\n",
        "):\n",
        "    \"\"\"\n",
        "    Przygotowuje dane do trenowania modeli z opcją k-krotnej walidacji i samplingu.\n",
        "\n",
        "    Parametry:\n",
        "    - data: DataFrame z danymi wejściowymi, gdzie kolumna \"Class\" jest etykietą\n",
        "    - use_cv: czy używać k-krotnej walidacji (domyślnie True)\n",
        "    - k: liczba foldów (warstw, na które został podzielony wejściowy zbiór danych) w k-krotnej walidacji (domyślnie 5)\n",
        "    - test_data_size: rozmiar zbioru testowego (domyślnie 0.2, czyli 20% danych)\n",
        "    - sampling_method: metoda samplingu (domyślnie SamplingMethod.NONE)\n",
        "    - sampling_strategy: proporcja liczby egzemplarzy klasy mniejszościowej do klasy większościowej (lub na odwrót) po samplingu (domyślnie 1.0, w obu klasach będzie tyle samo przykładów)\n",
        "    - random_seed: ziarno dla generatora liczb losowych (domyślnie 42)\n",
        "\n",
        "    Zwraca:\n",
        "    - Listę DataSplit: jeden element przy use_cv=False, k elementów przy use_cv=True\n",
        "    \"\"\"\n",
        "\n",
        "    x = data.drop(columns=[\"Class\"])\n",
        "    y = data[\"Class\"]\n",
        "\n",
        "    sampler = get_sampler(sampling_method, sampling_strategy, random_seed)\n",
        "\n",
        "    data_splits = []\n",
        "    if use_cv:\n",
        "        skf = StratifiedKFold(n_splits=k, shuffle=True, random_state=random_seed)\n",
        "\n",
        "        for train_idx, test_idx in skf.split(x, y):\n",
        "            x_train, x_test = x.iloc[train_idx], x.iloc[test_idx]\n",
        "            y_train, y_test = y.iloc[train_idx], y.iloc[test_idx]\n",
        "\n",
        "            if sampler:\n",
        "                x_train, y_train = sampler.fit_resample(x_train, y_train)\n",
        "\n",
        "            data_splits.append(DataSplit(x_train, x_test, y_train, y_test))\n",
        "    else:\n",
        "        x_train, x_test, y_train, y_test = train_test_split(\n",
        "            x, y, test_size=test_data_size, stratify=y, random_state=random_seed\n",
        "        )\n",
        "        if sampler:\n",
        "            x_train, y_train = sampler.fit_resample(x_train, y_train)\n",
        "\n",
        "        data_splits.append(DataSplit(x_train, x_test, y_train, y_test))\n",
        "\n",
        "    return data_splits"
      ],
      "metadata": {
        "id": "y9XluJ8hXyzf"
      },
      "execution_count": null,
      "outputs": []
    },
    {
      "cell_type": "markdown",
      "source": [
        "## Metoda do wizualizacji rozkładu klas w danych zbiorach  "
      ],
      "metadata": {
        "id": "_-P692LnX213"
      }
    },
    {
      "cell_type": "code",
      "source": [
        "import matplotlib.pyplot as plt\n",
        "\n",
        "def plot_class_distribution(data_splits, plot_title=\"Rozkład klas\"):\n",
        "    \"\"\"\n",
        "    Rysuje wykresy słupkowe pokazujące rozkład klas w zbiorach danych.\n",
        "\n",
        "    Parametry:\n",
        "    - data_splits: obiekt DataSplit albo lista obiektów DataSplit\n",
        "    - plot_title: tytuł wykresu (domyślnie \"Rozkład klas\")\n",
        "    \"\"\"\n",
        "\n",
        "    if not isinstance(data_splits, list):\n",
        "        data_splits = [data_splits]\n",
        "\n",
        "    data_splits_count = len(data_splits)\n",
        "    for i, data_split in enumerate(data_splits, 1):\n",
        "        train_examples_counts = data_split.y_train.value_counts().sort_index()\n",
        "        test_examples_counts = data_split.y_test.value_counts().sort_index()\n",
        "        classes = class_labels_map.keys()\n",
        "\n",
        "        bar_width = 0.35\n",
        "        x = np.arange(len(classes))\n",
        "\n",
        "        fig, ax = plt.subplots(figsize=(6, 4))\n",
        "        bars1 = ax.bar(x - bar_width/2, [train_examples_counts.get(c, 0) for c in classes],\n",
        "                       width=bar_width, label='Dane treningowe', color='skyblue')\n",
        "        bars2 = ax.bar(x + bar_width/2, [test_examples_counts.get(c, 0) for c in classes],\n",
        "                       width=bar_width, label='Dane testowe', color='salmon')\n",
        "\n",
        "        # Dodanie wartości nad słupkami\n",
        "        for bar in bars1 + bars2:\n",
        "            height = bar.get_height()\n",
        "            ax.annotate(f'{height}',\n",
        "                        xy=(bar.get_x() + bar.get_width() / 2, height),\n",
        "                        xytext=(0, 3),\n",
        "                        textcoords=\"offset points\",\n",
        "                        ha='center', va='bottom')\n",
        "\n",
        "        train_columns_height = [train_examples_counts.get(c, 0) for c in classes]\n",
        "        test_columns_height = [test_examples_counts.get(c, 0) for c in classes]\n",
        "\n",
        "        max_height = max(train_columns_height + test_columns_height)\n",
        "        # Ustawienie marginesu na osi Y\n",
        "        y_margin = max_height * 0.35\n",
        "\n",
        "        ax.set_title(f\"{plot_title} – podział danych numer {i}\" if data_splits_count > 1 else f\"{plot_title}\")\n",
        "        ax.set_xlabel(\"Klasa\")\n",
        "        ax.set_ylabel(\"Liczba przykładów\")\n",
        "        ax.set_xticks(x)\n",
        "        ax.set_xticklabels([class_labels_map.get(c, str(c)) for c in classes])\n",
        "        ax.set_ylim(0, max_height + y_margin)\n",
        "        ax.legend()\n",
        "        ax.grid(axis='y', linestyle='--', alpha=0.7)\n",
        "\n",
        "        plt.tight_layout()\n",
        "        plt.show()"
      ],
      "metadata": {
        "id": "kRt_gHyGYiq3"
      },
      "execution_count": null,
      "outputs": []
    },
    {
      "cell_type": "markdown",
      "source": [
        "## Przygotowanie konkretnych podziałów zbioru danych"
      ],
      "metadata": {
        "id": "vpBpDWUUXcyY"
      }
    },
    {
      "cell_type": "code",
      "source": [
        "# Podział danych na zbiór treningowy oraz zbiór testowy\n",
        "train_df, test_df = train_test_split(df, test_size=0.2, stratify=df[\"Class\"], random_state=42)\n",
        "train_test_data_split = DataSplit(train_df.drop(columns=[\"Class\"]), test_df.drop(columns=[\"Class\"]),\n",
        "                                  train_df[\"Class\"], test_df[\"Class\"])\n",
        "plot_class_distribution(train_test_data_split, \"Rozkład klas w zbiorze treningowym oraz testowym\")\n",
        "\n",
        "# Przygotowanie podziałów danych na różne przypadki z uwględnieniem metod samplingu oraz k - krotnej walidacji\n",
        "standard_data_splits = prepare_train_test_data_splits(data=train_df, use_cv=True, k=CV_FOLDS_COUNT,\n",
        "                                                     sampling_method=SamplingMethod.NONE)\n",
        "undersampling_50_data_splits = prepare_train_test_data_splits(data=train_df, use_cv=True, k=CV_FOLDS_COUNT,\n",
        "                                                             sampling_method=SamplingMethod.UNDER, sampling_strategy=0.5)\n",
        "undersampling_data_splits = prepare_train_test_data_splits(data=train_df, use_cv=True, k=CV_FOLDS_COUNT,\n",
        "                                                             sampling_method=SamplingMethod.UNDER, sampling_strategy=1.0)\n",
        "oversampling_50_data_splits = prepare_train_test_data_splits(data=train_df, use_cv=True, k=CV_FOLDS_COUNT,\n",
        "                                                             sampling_method=SamplingMethod.OVER, sampling_strategy=0.5)\n",
        "oversampling_data_splits = prepare_train_test_data_splits(data=train_df, use_cv=True, k=CV_FOLDS_COUNT,\n",
        "                                                             sampling_method=SamplingMethod.OVER, sampling_strategy=1.0)\n",
        "\n",
        "# Do weryfikacji tylko\n",
        "#plot_class_distribution(standard_data_splits, \"Rozkład klas bez samplingu\")\n",
        "#plot_class_distribution(undersampling_50_data_splits, \"Rozkład klas po undersamplingu (50%)\")\n",
        "#plot_class_distribution(undersampling_data_splits, \"Rozkład klas po undersamplingu\")\n",
        "#plot_class_distribution(oversampling_50_data_splits, \"Rozkład klas po oversamplingu (50%)\")\n",
        "#plot_class_distribution(oversampling_data_splits, \"Rozkład klas po oversamplingu\")"
      ],
      "metadata": {
        "id": "0N6PCiWF13Js",
        "colab": {
          "base_uri": "https://localhost:8080/",
          "height": 407
        },
        "outputId": "f550f061-ee5c-47e4-f317-f3b87d5861e3"
      },
      "execution_count": null,
      "outputs": [
        {
          "output_type": "display_data",
          "data": {
            "text/plain": [
              "<Figure size 600x400 with 1 Axes>"
            ],
            "image/png": "[encoded data removed]"
          },
          "metadata": {}
        }
      ]
    },
    {
      "cell_type": "markdown",
      "source": [
        "# Miary jakości\n",
        "\n",
        "1. average_precision jest odpowiednikiem do wyznaczenia pola pod krzywą PR.\n",
        "2. Nie stosuje się w praktyce klasycznego podejścia z wykorzystaniem wzoru trapezów do wyznaczenia wartości tego pola, ponieważ wg różnych badań które są wspomniane tutaj (https://scikit-learn.org/stable/modules/model_evaluation.html#precision-recall-f-measure-metrics) wyniki wychodziły zbyt optymistyczne niż w praktyce było.\n",
        "3. Dlatego stosujemy average_precision które uśrednia wartość Precision w każdych kolejnych krokach Recall.\n",
        "4. Lecz metoda poniżej na razie wyznacza też wartość tego pola w sposób klasyczny - po to żeby sobie porównać"
      ],
      "metadata": {
        "id": "w8EgewnTY3l5"
      }
    },
    {
      "cell_type": "code",
      "source": [
        "import matplotlib.pyplot as plt\n",
        "import pandas as pd\n",
        "from sklearn.metrics import (\n",
        "    precision_score,\n",
        "    recall_score,\n",
        "    f1_score,\n",
        "    precision_recall_curve,\n",
        "    average_precision_score,\n",
        "    auc\n",
        ")\n",
        "\n",
        "def evaluate_model(model, x_test, y_test, plot_title=\"Krzywa Precision-Recall\",\n",
        "                   draw_plot=True):\n",
        "    \"\"\"\n",
        "    Ocena jakości modelu: precision, recall, F1 score, krzywa PR, average precision i interpolowana wartość AUC PR.\n",
        "    Wyświetla tabelę z wynikami i wykres krzywej PR.\n",
        "\n",
        "    Parametry:\n",
        "    - model: wytrenowany model\n",
        "    - x_test, y_test: dane testowe\n",
        "    - plot_title: tytuł wykresu krzywej PR (domyślnie \"Krzywa Precision-Recall\")\n",
        "\n",
        "    Zwraca:\n",
        "    - DataFrame z metrykami modelu\n",
        "    \"\"\"\n",
        "\n",
        "    # Predykcja\n",
        "    y_pred = model.predict(x_test)\n",
        "    if hasattr(model, \"predict_proba\"):\n",
        "        fraud_idx = list(model.classes_).index(Transaction.FRAUD.value)\n",
        "        y_scores = model.predict_proba(x_test)[:, fraud_idx]\n",
        "    else:\n",
        "        y_scores = model.decision_function(x_test)\n",
        "\n",
        "    # Podstawowe metryki\n",
        "    recall = recall_score(y_test, y_pred, pos_label=Transaction.FRAUD.value)\n",
        "    precision = precision_score(y_test, y_pred, pos_label=Transaction.FRAUD.value)\n",
        "    f1 = f1_score(y_test, y_pred, pos_label=Transaction.FRAUD.value)\n",
        "\n",
        "    # Wyznaczenie krzywej PR i metryk z nią związanych\n",
        "    precision_vals, recall_vals, _ = precision_recall_curve(y_test, y_scores, pos_label=Transaction.FRAUD.value)\n",
        "    avg_precision = average_precision_score(y_test, y_scores, pos_label=Transaction.FRAUD.value)\n",
        "    interpolated_auc = auc(recall_vals, precision_vals)\n",
        "\n",
        "    # Tabelka metryk\n",
        "    results_df = pd.DataFrame({\n",
        "        \"Precision\": [precision],\n",
        "        \"Recall\": [recall],\n",
        "        \"F1-Score\": [f1],\n",
        "        \"Avg. Precision\": [avg_precision],\n",
        "        \"AUC PR (interpolowane)\": [interpolated_auc]\n",
        "    })\n",
        "\n",
        "    print(\"\\nOcena jakości modelu:\")\n",
        "    print(results_df.head(1))\n",
        "\n",
        "    if draw_plot:\n",
        "        # Wykres krzywej PR\n",
        "        plt.figure(figsize=(6, 5))\n",
        "        plt.plot(recall_vals, precision_vals, label=f\"AP={avg_precision:.4f}\", color='teal')\n",
        "        plt.fill_between(recall_vals, precision_vals, alpha=0.1, color='teal')\n",
        "        plt.xlabel(\"Recall\")\n",
        "        plt.ylabel(\"Precision\")\n",
        "        plt.title(plot_title)\n",
        "        plt.grid(True, linestyle='--', alpha=0.7)\n",
        "        plt.legend()\n",
        "        plt.tight_layout()\n",
        "        plt.show()\n",
        "\n",
        "    return precision, recall, f1, avg_precision, interpolated_auc\n"
      ],
      "metadata": {
        "id": "6-T72Ns2F1B6"
      },
      "execution_count": null,
      "outputs": []
    },
    {
      "cell_type": "markdown",
      "source": [
        "# Badania wybranych metod do detekcji anomalii"
      ],
      "metadata": {
        "id": "6ax3iCZ6egR1"
      }
    },
    {
      "cell_type": "markdown",
      "source": [],
      "metadata": {
        "id": "cbmrn1efHUwe"
      }
    },
    {
      "cell_type": "markdown",
      "source": [
        "Tutaj robię uspojnienie tego modelu badawczego"
      ],
      "metadata": {
        "id": "3VQxyTQN8hZS"
      }
    },
    {
      "cell_type": "code",
      "source": [
        "from dataclasses import dataclass, field\n",
        "from typing import List\n",
        "from datetime import datetime\n",
        "\n",
        "@dataclass\n",
        "class ParameterToTest:\n",
        "    name: str\n",
        "    values: List\n",
        "    required_params: dict = field(default_factory = lambda: {})\n",
        "\n",
        "@dataclass\n",
        "class SamplingMethodToTest:\n",
        "    method: SamplingMethod\n",
        "    sampling_strategy: float\n",
        "    data_splits: List[DataSplit]\n",
        "\n",
        "\n",
        "def params_tune(params_to_test: List[ParameterToTest], sampling_methods_to_test: List[SamplingMethodToTest],\n",
        "                build_model_function, model_name, seed=SEED,\n",
        "                special_stop_case=None, model_specific_params={}):\n",
        "    all_results = []\n",
        "\n",
        "    for param in params_to_test:\n",
        "        for sampling_method in sampling_methods_to_test:\n",
        "            for param_value in param.values:\n",
        "                # TODO: Add more parameters if needed\n",
        "                if special_stop_case and special_stop_case(param.name, sampling_method):\n",
        "                    continue\n",
        "\n",
        "                precision_list, recall_list, f1_list, avg_precision_list, interpolated_auc_list = [], [], [], [], []\n",
        "                for fold_id, split in enumerate(sampling_method.data_splits, 1):\n",
        "                    params = model_specific_params.copy()\n",
        "                    if param.required_params:\n",
        "                      params.update(param.required_params)\n",
        "                    params[param.name] = param_value\n",
        "                    model = build_model_function(**params)\n",
        "                    print(\n",
        "                        f\"({datetime.now().strftime('%H:%M:%S')}) Fold {fold_id}. Main param: {param.name}={param_value}. All params: {params}.\\nSampling method {sampling_method.method}, sampling strategy {sampling_method.sampling_strategy}. \")\n",
        "\n",
        "                    model.fit(split.x_train, split.y_train)\n",
        "\n",
        "                    metrics_df = evaluate_model(\n",
        "                        model,\n",
        "                        split.x_test,\n",
        "                        split.y_test,\n",
        "                        draw_plot=False,\n",
        "                    )\n",
        "                    precision_list.append(metrics_df[0])\n",
        "                    recall_list.append(metrics_df[1])\n",
        "                    f1_list.append(metrics_df[2])\n",
        "                    avg_precision_list.append(metrics_df[3])\n",
        "                    interpolated_auc_list.append(metrics_df[4])\n",
        "\n",
        "                # Uśrednianie\n",
        "                all_results.append(\n",
        "                    dict(sampling=sampling_method.method.name,\n",
        "                        sampling_strategy=sampling_method.sampling_strategy,\n",
        "                        param=param.name,\n",
        "                        value=param_value,\n",
        "                        mean_precision=np.mean(precision_list),\n",
        "                        mean_recall=np.mean(recall_list),\n",
        "                        mean_f1=np.mean(f1_list),\n",
        "                        mean_avg_precision=np.mean(avg_precision_list),\n",
        "                        mean_interpolated_auc=np.mean(interpolated_auc_list)\n",
        "                        # TODO: Opisac dlaczego ddof=1\n",
        "                        # std_avg_precision=np.std(avg_precision_list, ddof=1),\n",
        "                    )\n",
        "                )\n",
        "\n",
        "    results_df = pd.DataFrame(all_results)\n",
        "    results_df.to_csv(f\"results-{model_name}.csv\", sep='\\t')\n",
        "\n",
        "    return results_df\n",
        "\n",
        "\n",
        "def train_model(train_df: pd.DataFrame, test_df: pd.DataFrame, best_params, build_model_function, model_name,\n",
        "            sampling_method: SamplingMethod,\n",
        "            sampling_strategy: float = 1.0, seed=SEED):\n",
        "  x_train = train_df.drop(columns=[\"Class\"])\n",
        "  y_train = train_df[\"Class\"]\n",
        "\n",
        "  x_test = test_df.drop(columns=[\"Class\"])\n",
        "  y_test = test_df[\"Class\"]\n",
        "\n",
        "  sampler = get_sampler(sampling_method, sampling_strategy, seed)\n",
        "  if sampler:\n",
        "      x_train, y_train = sampler.fit_resample(x_train, y_train)\n",
        "\n",
        "  model = build_model_function(**best_params)\n",
        "  filename = type(model).__name__\n",
        "  joblib.dump(model, f\"{filename}.joblib\")\n",
        "\n",
        "\n",
        "  model.fit(x_train, y_train)\n",
        "\n",
        "  return model\n",
        "\n"
      ],
      "metadata": {
        "id": "AmM5R9z7oyUw"
      },
      "execution_count": null,
      "outputs": []
    },
    {
      "cell_type": "code",
      "source": [
        "import matplotlib.pyplot as plt\n",
        "import seaborn as sns\n",
        "import pandas as pd\n",
        "\n",
        "def add_values_labes(plt):\n",
        "  ax = plt.gca()\n",
        "  for container in ax.containers:\n",
        "      for bar in container:\n",
        "          height = bar.get_height()\n",
        "          x = bar.get_x()\n",
        "          width = bar.get_width()\n",
        "          ax.text(\n",
        "              x + width * 0.05,  # lekko na lewo/prawo\n",
        "              height + 0.002,    # delikatnie nad słupkiem\n",
        "              f\"{height:.3f}\",\n",
        "              ha='left',         # wyrównanie do lewej\n",
        "              va='bottom',\n",
        "              fontsize=8,\n",
        "              rotation=0\n",
        "          )\n",
        "\n",
        "def plot_metric_by_param(results_df, param_name: str, metric_name: str, hue: str = None, title: str = None):\n",
        "    # Filtrowanie tylko dla danego parametru\n",
        "    results_df_filtered = results_df[results_df[\"param\"] == param_name].copy()\n",
        "\n",
        "    if results_df_filtered.empty:\n",
        "        print(f\"Brak danych dla parametru: {param_name}\")\n",
        "        return\n",
        "\n",
        "    # Tworzymy wykres\n",
        "    plt.figure(figsize=(10, 6))\n",
        "    sns.barplot(\n",
        "        data=results_df_filtered,\n",
        "        x=\"value\",\n",
        "        y=metric_name,\n",
        "        hue=hue if hue else \"value\",\n",
        "        palette=\"Set2\",\n",
        "        legend=True if hue else False\n",
        "    )\n",
        "\n",
        "    # Na razie wyłączone, bo gorzej jednak to wygląda\n",
        "    # Dodaj wartości nad słupkami\n",
        "    # add_values_labes(plt)\n",
        "\n",
        "    plt.title(title or f\"{metric_name} vs {param_name}\", fontsize=14)\n",
        "    plt.xlabel(f\"Wartości parametru: {param_name}\")\n",
        "    plt.ylabel(metric_name)\n",
        "    plt.grid(axis='y', linestyle='--', alpha=0.5)\n",
        "    plt.tight_layout()\n",
        "    plt.show()\n",
        "\n",
        "\n",
        "def plot_metric_groups_for_param(results_df, param_name: str, metric_names: list[str], title: str = None):\n",
        "    # Filtrowanie tylko dla danego parametru\n",
        "    results_df_filtered = results_df[results_df[\"param\"] == param_name].copy()\n",
        "\n",
        "    if results_df_filtered.empty:\n",
        "        print(f\"Brak danych dla parametru: {param_name}\")\n",
        "        return\n",
        "\n",
        "    # Tworzenie \"długiego\" DataFrame do rysowania\n",
        "    results_df_melted = results_df_filtered.melt(\n",
        "        id_vars=[\"value\"],\n",
        "        value_vars=metric_names,\n",
        "        var_name=\"metric\",\n",
        "        value_name=\"score\"\n",
        "    )\n",
        "\n",
        "    plt.figure(figsize=(10, 6))\n",
        "    sns.barplot(\n",
        "        data=results_df_melted,\n",
        "        x=\"value\",\n",
        "        y=\"score\",\n",
        "        hue=\"metric\",\n",
        "        palette=\"Set2\",\n",
        "    )\n",
        "\n",
        "    # Na razie wyłączone, bo gorzej jednak to wygląda\n",
        "    # Dodaj wartości nad słupkami\n",
        "    # add_values_labes(plt)\n",
        "\n",
        "    plt.title(title or f\"Porównanie metryk dla parametru: {param_name}\", fontsize=14)\n",
        "    plt.xlabel(f\"Wartości parametru: {param_name}\")\n",
        "    plt.ylabel(\"Wartość metryki\")\n",
        "    plt.grid(axis='y', linestyle='--', alpha=0.5)\n",
        "    plt.legend(\n",
        "        title=\"Metryka\",\n",
        "        bbox_to_anchor=(1.02, 1),  # x=102% szerokości, y=100% wysokości\n",
        "        loc='upper left',\n",
        "        borderaxespad=0\n",
        "    )\n",
        "    plt.tight_layout(rect=[0, 0, 0.9, 1])  # Zostaw miejsce po prawej stronie\n",
        "    plt.show()\n",
        "\n",
        "def plot_metric_groups_for_sampling(results_df, metric_names: list[str], title: str = None):\n",
        "    # Upewnij się, że sampling i strategy to stringi\n",
        "    results_df_copy = results_df.copy()\n",
        "    results_df_copy[\"sampling\"] = results_df_copy[\"sampling\"].astype(str)\n",
        "    results_df_copy[\"sampling_strategy\"] = results_df_copy[\"sampling_strategy\"].astype(str)\n",
        "\n",
        "    # Stwórz kolumnę grupującą\n",
        "    results_df_copy[\"sampling_group\"] = results_df_copy.apply(\n",
        "        lambda row: f\"{row['sampling']}\\nstrategy={row['sampling_strategy']}\", axis=1\n",
        "    )\n",
        "\n",
        "    # Przekształć dane do formatu długiego\n",
        "    results_df_melted = results_df_copy.melt(\n",
        "        id_vars=[\"sampling_group\"],\n",
        "        value_vars=metric_names,\n",
        "        var_name=\"metric\",\n",
        "        value_name=\"score\"\n",
        "    )\n",
        "\n",
        "    # Tworzymy wykres\n",
        "    plt.figure(figsize=(12, 6))\n",
        "    sns.barplot(\n",
        "        data=results_df_melted,\n",
        "        x=\"sampling_group\",\n",
        "        y=\"score\",\n",
        "        hue=\"metric\",\n",
        "        palette=\"Set2\",\n",
        "    )\n",
        "\n",
        "    # Na razie wyłączone, bo gorzej jednak to wygląda\n",
        "    # Dodaj wartości nad słupkami\n",
        "    # add_values_labes(plt)\n",
        "\n",
        "    plt.title(title or \"Porównanie metryk dla różnych konfiguracji samplingu\", fontsize=14)\n",
        "    plt.xlabel(\"Konfiguracja: rodzaj metody samplingu + zastosowana strategia\")\n",
        "    plt.ylabel(\"Wartość metryki\")\n",
        "    plt.grid(axis='y', linestyle='--', alpha=0.4)\n",
        "    plt.legend(\n",
        "        title=\"Metryka\",\n",
        "        bbox_to_anchor=(1.02, 1),  # x=102% szerokości, y=100% wysokości\n",
        "        loc='upper left',\n",
        "        borderaxespad=0\n",
        "    )\n",
        "    plt.tight_layout(rect=[0, 0, 0.9, 1])  # Zostaw miejsce po prawej stronie\n",
        "    plt.show()"
      ],
      "metadata": {
        "id": "ebERQj_FbCYP"
      },
      "execution_count": null,
      "outputs": []
    },
    {
      "cell_type": "markdown",
      "source": [
        "## Metody nadzorowane"
      ],
      "metadata": {
        "id": "BySQyD3OY5Wr"
      }
    },
    {
      "cell_type": "markdown",
      "source": [
        "Trzeba opracować model, jak chcemy badać te kolejne modele i no żeby dla każdego to było spójne:\n",
        "\n",
        "> Add blockquote\n",
        "\n",
        "\n",
        "\n",
        "1. Zawsze odpalamy krzyżową walidację? Żeby już było mniej tych przypadków testowych, że jeszcze porównujemy\n",
        "2. Przypadek undersampling vs oversampling vs bez samplingu\n",
        "3. Badanie poszczególnych parametrów, które mamy wypisane w tabelce.\n",
        "4. Trochę nie wiem jak podejść do tej krzyżowej walidacji i strojenia parametrów, bo pewnie ostatecznie chcemy dostać najlepszy model z najlepszym zestawem parametrów.\n",
        "\n",
        "\n",
        "TODO: Opisać\n"
      ],
      "metadata": {
        "id": "i7-PGMi15ueI"
      }
    },
    {
      "cell_type": "markdown",
      "source": [
        "### SVM z wagami klas"
      ],
      "metadata": {
        "id": "184FtUfFWAWg"
      }
    },
    {
      "cell_type": "markdown",
      "source": [
        "### Las losowy"
      ],
      "metadata": {
        "id": "J3VwmMzXWIPB"
      }
    },
    {
      "cell_type": "markdown",
      "source": [],
      "metadata": {
        "id": "rRWfy6jf4MJr"
      }
    },
    {
      "cell_type": "code",
      "source": [],
      "metadata": {
        "id": "obWt02wf3YNZ"
      },
      "execution_count": null,
      "outputs": []
    },
    {
      "cell_type": "code",
      "source": [
        "from sklearn.ensemble import RandomForestClassifier\n",
        "\n",
        "if QUICK_MODE:\n",
        "  random_forest_params_to_test = [\n",
        "    ParameterToTest(name=\"n_estimators\", values=[50, 300]),\n",
        "    ParameterToTest(name=\"max_features\", values=[\"sqrt\", None]),\n",
        "    ParameterToTest(name=\"class_weight\", values=[\"balanced\", \"balanced_subsample\", None]),\n",
        "  ]\n",
        "\n",
        "  random_forest_sampling_method_to_test = [\n",
        "    SamplingMethodToTest(method=SamplingMethod.NONE, sampling_strategy=0, data_splits=standard_data_splits),\n",
        "    SamplingMethodToTest(method=SamplingMethod.UNDER, sampling_strategy=1, data_splits=undersampling_data_splits),\n",
        "    SamplingMethodToTest(method=SamplingMethod.OVER, sampling_strategy=1, data_splits=oversampling_data_splits),\n",
        "  ]\n",
        "else:\n",
        "  random_forest_params_to_test = [\n",
        "        ParameterToTest(name=\"n_estimators\", values=[50, 100, 200, 300]),\n",
        "        ParameterToTest(name=\"max_features\", values=[\"sqrt\", \"log2\", 0.3, 0.5, None]),\n",
        "        ParameterToTest(name=\"class_weight\", values=[\"balanced\", \"balanced_subsample\", None]),\n",
        "    ]\n",
        "\n",
        "  random_forest_sampling_method_to_test = [\n",
        "        SamplingMethodToTest(method=SamplingMethod.NONE, sampling_strategy=0, data_splits=standard_data_splits),\n",
        "        SamplingMethodToTest(method=SamplingMethod.UNDER, sampling_strategy=0.5,\n",
        "                             data_splits=undersampling_50_data_splits),\n",
        "        SamplingMethodToTest(method=SamplingMethod.UNDER, sampling_strategy=1, data_splits=undersampling_data_splits),\n",
        "        SamplingMethodToTest(method=SamplingMethod.OVER, sampling_strategy=0.5,\n",
        "                             data_splits=oversampling_50_data_splits),\n",
        "        SamplingMethodToTest(method=SamplingMethod.OVER, sampling_strategy=1, data_splits=oversampling_data_splits),\n",
        "    ]\n",
        "\n",
        "def build_random_forest_model(**kwargs):\n",
        "    return RandomForestClassifier(**kwargs)\n",
        "\n",
        "\n",
        "def random_forest_special_stop_case(param_name: str, sampling_method: SamplingMethodToTest):\n",
        "    is_class_weight_test = param_name == \"class_weight\"\n",
        "    is_data_sampled = sampling_method.method != SamplingMethod.NONE\n",
        "\n",
        "    # Jezeli dane sa samplowane, nie testujemy zadnych wartosci parametru \"class_weight\"\n",
        "    if is_class_weight_test and is_data_sampled:\n",
        "        print(f\"Pomiń, ponieważ sampling method: {sampling_method.method} i param_name: {param_name} \")\n",
        "        return True\n",
        "    else:\n",
        "        return False\n",
        "\n",
        "model_specific_params = {\n",
        "    \"random_state\": SEED,\n",
        "    \"n_jobs\": -1}\n",
        "\n",
        "results = params_tune(random_forest_params_to_test, sampling_methods_to_test=random_forest_sampling_method_to_test,\n",
        "                      special_stop_case=random_forest_special_stop_case, build_model_function=build_random_forest_model,\n",
        "                      model_specific_params=model_specific_params, model_name='random_forest')\n",
        "print(results)\n",
        "\n",
        "print(\"Pełne wyniki (dla quick_mode=False)\")\n",
        "\n",
        "\n"
      ],
      "metadata": {
        "id": "lgkLPJSK37Kf",
        "colab": {
          "base_uri": "https://localhost:8080/",
          "height": 807
        },
        "outputId": "da647e40-09c7-40ca-b723-627bb5e198db"
      },
      "execution_count": null,
      "outputs": [
        {
          "output_type": "stream",
          "name": "stdout",
          "text": [
            "(10:23:39) Fold 1. Main param: n_estimators=50. All params: {'random_state': 42, 'n_jobs': -1, 'n_estimators': 50}.\n",
            "Sampling method SamplingMethod.NONE, sampling strategy 0. \n",
            "\n",
            "Ocena jakości modelu:\n",
            "   Precision    Recall  F1-Score  Avg. Precision  AUC PR (interpolowane)\n",
            "0   0.921875  0.786667  0.848921        0.795885                0.811353\n",
            "(10:25:09) Fold 2. Main param: n_estimators=50. All params: {'random_state': 42, 'n_jobs': -1, 'n_estimators': 50}.\n",
            "Sampling method SamplingMethod.NONE, sampling strategy 0. \n",
            "\n",
            "Ocena jakości modelu:\n",
            "   Precision    Recall  F1-Score  Avg. Precision  AUC PR (interpolowane)\n",
            "0    0.96875  0.826667  0.892086        0.868593                0.878961\n",
            "(10:26:33) Fold 3. Main param: n_estimators=50. All params: {'random_state': 42, 'n_jobs': -1, 'n_estimators': 50}.\n",
            "Sampling method SamplingMethod.NONE, sampling strategy 0. \n",
            "\n",
            "Ocena jakości modelu:\n",
            "   Precision    Recall  F1-Score  Avg. Precision  AUC PR (interpolowane)\n",
            "0        1.0  0.789474  0.882353        0.880869                0.887756\n",
            "(10:28:00) Fold 4. Main param: n_estimators=50. All params: {'random_state': 42, 'n_jobs': -1, 'n_estimators': 50}.\n",
            "Sampling method SamplingMethod.NONE, sampling strategy 0. \n",
            "\n",
            "Ocena jakości modelu:\n",
            "   Precision    Recall  F1-Score  Avg. Precision  AUC PR (interpolowane)\n",
            "0   0.914286  0.842105  0.876712        0.888593                0.896212\n",
            "(10:29:23) Fold 5. Main param: n_estimators=50. All params: {'random_state': 42, 'n_jobs': -1, 'n_estimators': 50}.\n",
            "Sampling method SamplingMethod.NONE, sampling strategy 0. \n"
          ]
        },
        {
          "output_type": "error",
          "ename": "KeyboardInterrupt",
          "evalue": "",
          "traceback": [
            "\u001b[0;31m---------------------------------------------------------------------------\u001b[0m",
            "\u001b[0;31mKeyboardInterrupt\u001b[0m                         Traceback (most recent call last)",
            "\u001b[0;32m<ipython-input-83-1586ddcfc108>\u001b[0m in \u001b[0;36m<cell line: 0>\u001b[0;34m()\u001b[0m\n\u001b[1;32m     49\u001b[0m     \"n_jobs\": -1}\n\u001b[1;32m     50\u001b[0m \u001b[0;34m\u001b[0m\u001b[0m\n\u001b[0;32m---> 51\u001b[0;31m results = params_tune(random_forest_params_to_test, sampling_methods_to_test=random_forest_sampling_method_to_test,\n\u001b[0m\u001b[1;32m     52\u001b[0m                       \u001b[0mspecial_stop_case\u001b[0m\u001b[0;34m=\u001b[0m\u001b[0mrandom_forest_special_stop_case\u001b[0m\u001b[0;34m,\u001b[0m \u001b[0mbuild_model_function\u001b[0m\u001b[0;34m=\u001b[0m\u001b[0mbuild_random_forest_model\u001b[0m\u001b[0;34m,\u001b[0m\u001b[0;34m\u001b[0m\u001b[0;34m\u001b[0m\u001b[0m\n\u001b[1;32m     53\u001b[0m                       model_specific_params=model_specific_params, model_name='random_forest')\n",
            "\u001b[0;32m<ipython-input-81-dcb07a2cbb42>\u001b[0m in \u001b[0;36mparams_tune\u001b[0;34m(params_to_test, sampling_methods_to_test, build_model_function, model_name, seed, special_stop_case, model_specific_params)\u001b[0m\n\u001b[1;32m     38\u001b[0m                         f\"({datetime.now().strftime('%H:%M:%S')}) Fold {fold_id}. Main param: {param.name}={param_value}. All params: {params}.\\nSampling method {sampling_method.method}, sampling strategy {sampling_method.sampling_strategy}. \")\n\u001b[1;32m     39\u001b[0m \u001b[0;34m\u001b[0m\u001b[0m\n\u001b[0;32m---> 40\u001b[0;31m                     \u001b[0mmodel\u001b[0m\u001b[0;34m.\u001b[0m\u001b[0mfit\u001b[0m\u001b[0;34m(\u001b[0m\u001b[0msplit\u001b[0m\u001b[0;34m.\u001b[0m\u001b[0mx_train\u001b[0m\u001b[0;34m,\u001b[0m \u001b[0msplit\u001b[0m\u001b[0;34m.\u001b[0m\u001b[0my_train\u001b[0m\u001b[0;34m)\u001b[0m\u001b[0;34m\u001b[0m\u001b[0;34m\u001b[0m\u001b[0m\n\u001b[0m\u001b[1;32m     41\u001b[0m \u001b[0;34m\u001b[0m\u001b[0m\n\u001b[1;32m     42\u001b[0m                     metrics_df = evaluate_model(\n",
            "\u001b[0;32m/usr/local/lib/python3.11/dist-packages/sklearn/base.py\u001b[0m in \u001b[0;36mwrapper\u001b[0;34m(estimator, *args, **kwargs)\u001b[0m\n\u001b[1;32m   1387\u001b[0m                 )\n\u001b[1;32m   1388\u001b[0m             ):\n\u001b[0;32m-> 1389\u001b[0;31m                 \u001b[0;32mreturn\u001b[0m \u001b[0mfit_method\u001b[0m\u001b[0;34m(\u001b[0m\u001b[0mestimator\u001b[0m\u001b[0;34m,\u001b[0m \u001b[0;34m*\u001b[0m\u001b[0margs\u001b[0m\u001b[0;34m,\u001b[0m \u001b[0;34m**\u001b[0m\u001b[0mkwargs\u001b[0m\u001b[0;34m)\u001b[0m\u001b[0;34m\u001b[0m\u001b[0;34m\u001b[0m\u001b[0m\n\u001b[0m\u001b[1;32m   1390\u001b[0m \u001b[0;34m\u001b[0m\u001b[0m\n\u001b[1;32m   1391\u001b[0m         \u001b[0;32mreturn\u001b[0m \u001b[0mwrapper\u001b[0m\u001b[0;34m\u001b[0m\u001b[0;34m\u001b[0m\u001b[0m\n",
            "\u001b[0;32m/usr/local/lib/python3.11/dist-packages/sklearn/ensemble/_forest.py\u001b[0m in \u001b[0;36mfit\u001b[0;34m(self, X, y, sample_weight)\u001b[0m\n\u001b[1;32m    485\u001b[0m             \u001b[0;31m# parallel_backend contexts set at a higher level,\u001b[0m\u001b[0;34m\u001b[0m\u001b[0;34m\u001b[0m\u001b[0m\n\u001b[1;32m    486\u001b[0m             \u001b[0;31m# since correctness does not rely on using threads.\u001b[0m\u001b[0;34m\u001b[0m\u001b[0;34m\u001b[0m\u001b[0m\n\u001b[0;32m--> 487\u001b[0;31m             trees = Parallel(\n\u001b[0m\u001b[1;32m    488\u001b[0m                 \u001b[0mn_jobs\u001b[0m\u001b[0;34m=\u001b[0m\u001b[0mself\u001b[0m\u001b[0;34m.\u001b[0m\u001b[0mn_jobs\u001b[0m\u001b[0;34m,\u001b[0m\u001b[0;34m\u001b[0m\u001b[0;34m\u001b[0m\u001b[0m\n\u001b[1;32m    489\u001b[0m                 \u001b[0mverbose\u001b[0m\u001b[0;34m=\u001b[0m\u001b[0mself\u001b[0m\u001b[0;34m.\u001b[0m\u001b[0mverbose\u001b[0m\u001b[0;34m,\u001b[0m\u001b[0;34m\u001b[0m\u001b[0;34m\u001b[0m\u001b[0m\n",
            "\u001b[0;32m/usr/local/lib/python3.11/dist-packages/sklearn/utils/parallel.py\u001b[0m in \u001b[0;36m__call__\u001b[0;34m(self, iterable)\u001b[0m\n\u001b[1;32m     75\u001b[0m             \u001b[0;32mfor\u001b[0m \u001b[0mdelayed_func\u001b[0m\u001b[0;34m,\u001b[0m \u001b[0margs\u001b[0m\u001b[0;34m,\u001b[0m \u001b[0mkwargs\u001b[0m \u001b[0;32min\u001b[0m \u001b[0miterable\u001b[0m\u001b[0;34m\u001b[0m\u001b[0;34m\u001b[0m\u001b[0m\n\u001b[1;32m     76\u001b[0m         )\n\u001b[0;32m---> 77\u001b[0;31m         \u001b[0;32mreturn\u001b[0m \u001b[0msuper\u001b[0m\u001b[0;34m(\u001b[0m\u001b[0;34m)\u001b[0m\u001b[0;34m.\u001b[0m\u001b[0m__call__\u001b[0m\u001b[0;34m(\u001b[0m\u001b[0miterable_with_config\u001b[0m\u001b[0;34m)\u001b[0m\u001b[0;34m\u001b[0m\u001b[0;34m\u001b[0m\u001b[0m\n\u001b[0m\u001b[1;32m     78\u001b[0m \u001b[0;34m\u001b[0m\u001b[0m\n\u001b[1;32m     79\u001b[0m \u001b[0;34m\u001b[0m\u001b[0m\n",
            "\u001b[0;32m/usr/local/lib/python3.11/dist-packages/joblib/parallel.py\u001b[0m in \u001b[0;36m__call__\u001b[0;34m(self, iterable)\u001b[0m\n\u001b[1;32m   2070\u001b[0m         \u001b[0mnext\u001b[0m\u001b[0;34m(\u001b[0m\u001b[0moutput\u001b[0m\u001b[0;34m)\u001b[0m\u001b[0;34m\u001b[0m\u001b[0;34m\u001b[0m\u001b[0m\n\u001b[1;32m   2071\u001b[0m \u001b[0;34m\u001b[0m\u001b[0m\n\u001b[0;32m-> 2072\u001b[0;31m         \u001b[0;32mreturn\u001b[0m \u001b[0moutput\u001b[0m \u001b[0;32mif\u001b[0m \u001b[0mself\u001b[0m\u001b[0;34m.\u001b[0m\u001b[0mreturn_generator\u001b[0m \u001b[0;32melse\u001b[0m \u001b[0mlist\u001b[0m\u001b[0;34m(\u001b[0m\u001b[0moutput\u001b[0m\u001b[0;34m)\u001b[0m\u001b[0;34m\u001b[0m\u001b[0;34m\u001b[0m\u001b[0m\n\u001b[0m\u001b[1;32m   2073\u001b[0m \u001b[0;34m\u001b[0m\u001b[0m\n\u001b[1;32m   2074\u001b[0m     \u001b[0;32mdef\u001b[0m \u001b[0m__repr__\u001b[0m\u001b[0;34m(\u001b[0m\u001b[0mself\u001b[0m\u001b[0;34m)\u001b[0m\u001b[0;34m:\u001b[0m\u001b[0;34m\u001b[0m\u001b[0;34m\u001b[0m\u001b[0m\n",
            "\u001b[0;32m/usr/local/lib/python3.11/dist-packages/joblib/parallel.py\u001b[0m in \u001b[0;36m_get_outputs\u001b[0;34m(self, iterator, pre_dispatch)\u001b[0m\n\u001b[1;32m   1680\u001b[0m \u001b[0;34m\u001b[0m\u001b[0m\n\u001b[1;32m   1681\u001b[0m             \u001b[0;32mwith\u001b[0m \u001b[0mself\u001b[0m\u001b[0;34m.\u001b[0m\u001b[0m_backend\u001b[0m\u001b[0;34m.\u001b[0m\u001b[0mretrieval_context\u001b[0m\u001b[0;34m(\u001b[0m\u001b[0;34m)\u001b[0m\u001b[0;34m:\u001b[0m\u001b[0;34m\u001b[0m\u001b[0;34m\u001b[0m\u001b[0m\n\u001b[0;32m-> 1682\u001b[0;31m                 \u001b[0;32myield\u001b[0m \u001b[0;32mfrom\u001b[0m \u001b[0mself\u001b[0m\u001b[0;34m.\u001b[0m\u001b[0m_retrieve\u001b[0m\u001b[0;34m(\u001b[0m\u001b[0;34m)\u001b[0m\u001b[0;34m\u001b[0m\u001b[0;34m\u001b[0m\u001b[0m\n\u001b[0m\u001b[1;32m   1683\u001b[0m \u001b[0;34m\u001b[0m\u001b[0m\n\u001b[1;32m   1684\u001b[0m         \u001b[0;32mexcept\u001b[0m \u001b[0mGeneratorExit\u001b[0m\u001b[0;34m:\u001b[0m\u001b[0;34m\u001b[0m\u001b[0;34m\u001b[0m\u001b[0m\n",
            "\u001b[0;32m/usr/local/lib/python3.11/dist-packages/joblib/parallel.py\u001b[0m in \u001b[0;36m_retrieve\u001b[0;34m(self)\u001b[0m\n\u001b[1;32m   1798\u001b[0m                     \u001b[0mself\u001b[0m\u001b[0;34m.\u001b[0m\u001b[0m_jobs\u001b[0m\u001b[0;34m[\u001b[0m\u001b[0;36m0\u001b[0m\u001b[0;34m]\u001b[0m\u001b[0;34m.\u001b[0m\u001b[0mget_status\u001b[0m\u001b[0;34m(\u001b[0m\u001b[0mtimeout\u001b[0m\u001b[0;34m=\u001b[0m\u001b[0mself\u001b[0m\u001b[0;34m.\u001b[0m\u001b[0mtimeout\u001b[0m\u001b[0;34m)\u001b[0m \u001b[0;34m==\u001b[0m \u001b[0mTASK_PENDING\u001b[0m\u001b[0;34m\u001b[0m\u001b[0;34m\u001b[0m\u001b[0m\n\u001b[1;32m   1799\u001b[0m                 ):\n\u001b[0;32m-> 1800\u001b[0;31m                     \u001b[0mtime\u001b[0m\u001b[0;34m.\u001b[0m\u001b[0msleep\u001b[0m\u001b[0;34m(\u001b[0m\u001b[0;36m0.01\u001b[0m\u001b[0;34m)\u001b[0m\u001b[0;34m\u001b[0m\u001b[0;34m\u001b[0m\u001b[0m\n\u001b[0m\u001b[1;32m   1801\u001b[0m                     \u001b[0;32mcontinue\u001b[0m\u001b[0;34m\u001b[0m\u001b[0;34m\u001b[0m\u001b[0m\n\u001b[1;32m   1802\u001b[0m \u001b[0;34m\u001b[0m\u001b[0m\n",
            "\u001b[0;31mKeyboardInterrupt\u001b[0m: "
          ]
        }
      ]
    },
    {
      "cell_type": "code",
      "source": [
        "\n",
        "\n",
        "def get_cmap_iterator(n, color_name):\n",
        "    cmap = plt.cm.get_cmap(color_name, n)\n",
        "    list = [matplotlib.colors.to_hex(cmap(i)) for i in range(n)]\n",
        "    return iter(reversed(list))\n",
        "\n",
        "\n",
        "def draw_plots(results: pd.DataFrame):\n",
        "    results.replace({np.nan: None}, inplace=True)\n",
        "\n",
        "    draw_recall_precision_plot(results)\n",
        "    print(\"\\n\")\n",
        "    draw_best_f1_plot(results)\n",
        "    print(\"\\n\")\n",
        "    draw_n_estimators_plot(results)\n",
        "    print(\"\\n\")\n",
        "\n",
        "\n",
        "def draw_n_estimators_plot(results: pd.DataFrame):\n",
        "    overs = results[(results[\"sampling\"] == \"SamplingMethod.OVER\") & (results[\"param\"] == \"n_estimators\")]\n",
        "\n",
        "    plt.figure()\n",
        "\n",
        "    for val, group in overs.groupby(\"sampling_strategy\"):\n",
        "        plt.plot(group[\"value\"], group[\"mean_f1\"], label=f\"Sampling strategy = {val}\", marker=\"o\")\n",
        "\n",
        "    plt.xlabel(\"n_estimators - liczba drzew\")\n",
        "    plt.ylabel(\"F1 - średnia z 5 walidacji krzyżowych\\n\")\n",
        "    plt.title(\"F1 vs. n_estimators dla SMOTE oversampling\")\n",
        "    plt.tight_layout()\n",
        "    plt.legend()\n",
        "    plt.show()\n",
        "\n",
        "\n",
        "def draw_recall_precision_plot(results: pd.DataFrame):\n",
        "    filtered_results = results[(results[\"value\"] == \"100\") | (results[\"param\"] == \"class_weight\")]\n",
        "\n",
        "    cmaps = [get_cmap_iterator(4, 'Purples'),\n",
        "             get_cmap_iterator(5, 'Oranges'), get_cmap_iterator(4, 'Greens')]\n",
        "\n",
        "    for sampling_method, group_sm in filtered_results.groupby(\"sampling\"):\n",
        "        sampling_strategy = SamplingMethod.from_string(sampling_method)\n",
        "        if sampling_strategy == SamplingMethod.NONE:\n",
        "            for value, group_val in group_sm[group_sm[\"param\"] == \"class_weight\"].groupby(\"value\", dropna=False):\n",
        "                cmap = cmaps[sampling_strategy.value]\n",
        "                color = next(cmap)\n",
        "                plt.scatter(group_val[\"mean_recall\"], group_val[\"mean_precision\"],\n",
        "                            label=f\"{sampling_strategy.to_string()} (class_weight={value})\", color=color, alpha=0.9)\n",
        "        else:\n",
        "            for strategy, group_strat in group_sm.groupby(\"sampling_strategy\"):\n",
        "                cmap = cmaps[sampling_strategy.value]\n",
        "                color = next(cmap)\n",
        "                plt.scatter(group_strat[\"mean_recall\"], group_strat[\"mean_precision\"],\n",
        "                            label=f\"{sampling_strategy.to_string()} (strategy={strategy})\", color=color)\n",
        "\n",
        "    ax = plt.gca()\n",
        "    ax.set_xlim([0, 1])\n",
        "    ax.set_ylim([0, 1])\n",
        "    plt.xlabel(\"Średni odzysk\")\n",
        "    plt.ylabel(\"Średnia precyzja\")\n",
        "    plt.title(\"Porównanie precyzji i odzysku na podstawie metody próbkowania\\n(pozostałe parametry domyślne)\")\n",
        "    plt.grid(True)\n",
        "    plt.legend(loc=\"lower left\", prop={'size': 8})\n",
        "    plt.rcParams[\"figure.figsize\"] = [6.4, 4.8]\n",
        "    plt.rcParams[\"figure.figsize\"] = (30, 30)\n",
        "    plt.show()\n",
        "    plt.style.use('default')\n",
        "\n",
        "\n",
        "\n",
        "def draw_best_f1_plot(results: pd.DataFrame):\n",
        "    names = []\n",
        "    values = []\n",
        "    best_f1_ids = results.groupby(\"sampling\")[\"mean_f1\"].idxmax()\n",
        "    for id in best_f1_ids:\n",
        "        entry = results.iloc[id]\n",
        "        names.append(\n",
        "            f\"{SamplingMethod.from_string(entry['sampling']).to_string()}\\nsampling_strategy: {entry['sampling_strategy']}\")\n",
        "        values.append(entry[\"mean_f1\"])\n",
        "\n",
        "        # Put this entry into plot\n",
        "\n",
        "    plt.bar(names, values)\n",
        "    plt.title('Najwyższy współczynnik F1 uzyskany dla poszczególnych strategii próbkowania')\n",
        "    plt.xlabel(\"Strategia\")\n",
        "    plt.ylabel('F1 - średnia z 5 walidacji krzyżowych')\n",
        "    plt.grid(True)\n",
        "    plt.show()\n",
        "\n",
        "\n",
        "def prepare_plots(df: pd.DataFrame):\n",
        "    for param in df[\"param\"].unique():\n",
        "        plot_param(df, param)\n",
        "\n",
        "\n",
        "def plot_param(results, param_name):\n",
        "    subset = results[results[\"param\"] == param_name].copy()\n",
        "    sampling_methods = subset[\"sampling\"].unique()\n",
        "\n",
        "    # Map values to strings for categorical x-axis if needed\n",
        "    subset[\"value_str\"] = subset[\"value\"].astype(str)\n",
        "\n",
        "    # Build plot\n",
        "    plt.figure(figsize=(6, 4))\n",
        "    for sm in sampling_methods:\n",
        "        sm_data = subset[subset[\"sampling\"] == sm]\n",
        "        x = sm_data[\"value_str\"]\n",
        "        y = sm_data[\"mean_avg_precision\"]\n",
        "        yerr = sm_data[\"std_avg_precision\"]\n",
        "        plt.errorbar(x, y, yerr=yerr, marker=\"o\", label=sm, capsize=5)\n",
        "\n",
        "    plt.title(f\"{param_name} vs Average Precision\")\n",
        "    plt.xlabel(param_name)\n",
        "    plt.ylabel(\"Mean AP\")\n",
        "    plt.grid(True, linestyle=\"--\", alpha=0.6)\n",
        "    plt.legend(title=\"Sampling\")\n",
        "    plt.tight_layout()\n",
        "    plt.show()\n",
        "\n",
        "\n",
        "df = pd.read_csv(\"Results/results-random_forest.csv\",sep=\"\\t\", index_col=0)\n",
        "draw_plots(df)\n",
        "\n",
        "\n"
      ],
      "metadata": {
        "id": "fnlUdv1Aj9nn",
        "colab": {
          "base_uri": "https://localhost:8080/",
          "height": 1000
        },
        "outputId": "2815517c-2f2a-4b4c-929e-2e10b584a2d3"
      },
      "execution_count": null,
      "outputs": [
        {
          "output_type": "stream",
          "name": "stderr",
          "text": [
            "<ipython-input-84-ee3a62647dbd>:2: MatplotlibDeprecationWarning: The get_cmap function was deprecated in Matplotlib 3.7 and will be removed in 3.11. Use ``matplotlib.colormaps[name]`` or ``matplotlib.colormaps.get_cmap()`` or ``pyplot.get_cmap()`` instead.\n",
            "  cmap = plt.cm.get_cmap(color_name, n)\n"
          ]
        },
        {
          "output_type": "display_data",
          "data": {
            "text/plain": [
              "<Figure size 640x480 with 1 Axes>"
            ],
            "image/png": "[encoded data removed]"
          },
          "metadata": {}
        },
        {
          "output_type": "stream",
          "name": "stdout",
          "text": [
            "\n",
            "\n"
          ]
        },
        {
          "output_type": "display_data",
          "data": {
            "text/plain": [
              "<Figure size 640x480 with 1 Axes>"
            ],
            "image/png": "[encoded data removed]"
          },
          "metadata": {}
        },
        {
          "output_type": "stream",
          "name": "stdout",
          "text": [
            "\n",
            "\n"
          ]
        },
        {
          "output_type": "display_data",
          "data": {
            "text/plain": [
              "<Figure size 640x480 with 1 Axes>"
            ],
            "image/png": "[encoded data removed]"
          },
          "metadata": {}
        },
        {
          "output_type": "stream",
          "name": "stdout",
          "text": [
            "\n",
            "\n"
          ]
        }
      ]
    },
    {
      "cell_type": "markdown",
      "source": [
        "### Porównanie precyzji i odzysku\n",
        "Na wykresie pokazano 3 metody samplingu:\n",
        "- brak próbkowania\n",
        "- undersampling\n",
        "- oversampling\n",
        "\n",
        "z różnymi wartościami *strategy*, gdzie:\n",
        "- *1* = klasy całkowicie zbilansowane\n",
        "- *0.5* = klasa większościowa pozostaje w większości, ilość rekordów klasy mniejszościowej\n",
        "jest o 50% mniejsza.\n",
        "\n",
        "Celem było wykrycie, która metoda najlepiej sprawdzi się w testowanym algorytmie.\n",
        "Dla tego porównania pozostałe parametry treningu pozostawiono domyślne.\n",
        "Na wykresie widać, że najlepszy odzysk (*~0.85*) uzyskał undersampling. Jest to\n",
        "jednak obarczone bardzo niską precyzją (nawet poniżej *0.2*). Najlepszy balans między precyzją a odzyskiem uzyskaliśmy wykorzystując **oversampling** z wartością **strategy=0.5**.\n",
        "\n",
        "### Porównanie F1 dla różnych typów próbkowania\n",
        "\n",
        "Porównując dalej wykorzystane próbkowania, widzimy że także parametr **F1**\n",
        "uzyskał najlepszą wartość dla próbkowania oversampling, w porównanie z jego brakiem i undersamplingiem.\n",
        "\n",
        "\n",
        "### Wpływ liczb drzew\n",
        "\n",
        "Dla oversamplingu, który pokazywał najbardziej obiecujące wyniki, przetestowaliśmy wpływ parametru *n_estimators*, czyli liczby drzew. Na wykresie\n",
        "widać, że optymalna wartość oscyluje w granicy `100`. Większa ilość nie wpływa\n",
        "pozytywnie na wynik F1.\n",
        "\n"
      ],
      "metadata": {
        "id": "xHyJ7yYGL3-Y"
      }
    },
    {
      "cell_type": "code",
      "source": [
        "import joblib\n",
        "\n",
        "best_params = {\n",
        "    \"random_state\": SEED,\n",
        "    \"n_jobs\": -1,\n",
        "    \"n_estimators\": 100,\n",
        "    \"max_features\": \"sqrt\",\n",
        "    \"class_weight\": None,\n",
        "}\n",
        "\n",
        "model = train_model(train_df, test_df,best_params,build_random_forest_model,  \"random_forest\", SamplingMethod.OVER, sampling_strategy=0.5)\n",
        "\n",
        "x_test = test_df.drop(columns=[\"Class\"])\n",
        "y_test = test_df[\"Class\"]\n",
        "\n",
        "if QUICK_MODE:\n",
        "  evaluate_model(model, x_test, y_test, plot_title=\"Krzywa Precision-Recall - quckrun\")\n",
        "  df = pd.read_csv(\"Results/results-random_forest.csv\",sep=\"\\t\", index_col=0)\n",
        "\n",
        "  # Pełen model wytrenowany lokalnie z tymi samymi parametram\n",
        "  full_model = joblib.load(\"Results/random_forest_model.joblib\")\n",
        "  evaluate_model(full_model, x_test, y_test)\n",
        "else:\n",
        "    evaluate_model(model, x_test, y_test)\n"
      ],
      "metadata": {
        "id": "9iF-Hqqo5bra",
        "colab": {
          "base_uri": "https://localhost:8080/",
          "height": 576
        },
        "outputId": "61a74f4a-4c4b-4e40-f277-a21b1ecb392a"
      },
      "execution_count": null,
      "outputs": [
        {
          "output_type": "stream",
          "name": "stdout",
          "text": [
            "\n",
            "Ocena jakości modelu:\n",
            "   Precision    Recall  F1-Score  Avg. Precision  AUC PR (interpolowane)\n",
            "0   0.935065  0.757895  0.837209        0.783775                0.790245\n"
          ]
        },
        {
          "output_type": "display_data",
          "data": {
            "text/plain": [
              "<Figure size 600x500 with 1 Axes>"
            ],
            "image/png": "[encoded data removed]"
          },
          "metadata": {}
        }
      ]
    },
    {
      "cell_type": "markdown",
      "source": [
        "TODO: Wykresy maja byc wygenerowane w python"
      ],
      "metadata": {
        "id": "_fugNV7l5oM9"
      }
    },
    {
      "cell_type": "markdown",
      "source": [],
      "metadata": {
        "id": "O2DwWeIf2wDY"
      }
    },
    {
      "cell_type": "markdown",
      "source": [
        "Ostateczne pamaetry modelu dla najlepszych parametrów - do testów uzyto 20% zbioru ktory nie był używany w trakcie procesu\n",
        "\n",
        "   Precision    Recall  F1-Score  Avg. Precision  AUC PR (interpolowane)\n",
        "0   0.961538  0.852273  0.903614        0.891871                0.897822\n",
        "\n"
      ],
      "metadata": {
        "id": "9J56eOvB5xNu"
      }
    },
    {
      "cell_type": "markdown",
      "source": [
        "\n",
        "\n",
        "\n",
        "![myplot.png](data:image/png;base64,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)"
      ],
      "metadata": {
        "id": "0Oy546z73aQF"
      }
    },
    {
      "cell_type": "markdown",
      "source": [
        "### Drzewo decyzyjne z wagami klas\n",
        "\n",
        "\n",
        "\n",
        "\n",
        "\n"
      ],
      "metadata": {
        "id": "-7l594s0WIYM"
      }
    },
    {
      "cell_type": "markdown",
      "source": [
        "### XG Boost"
      ],
      "metadata": {
        "id": "aEYLzNfuWIfc"
      }
    },
    {
      "cell_type": "markdown",
      "source": [
        "## Metody nienadzorowane"
      ],
      "metadata": {
        "id": "yrtINeJ9Y-TP"
      }
    },
    {
      "cell_type": "markdown",
      "source": [
        "### One-Class SVM\n",
        "\n",
        "Tutaj na razie wstępny wywołanie, żeby zobaczyć czy mniej więcej działa metoda do oceny jakości modelu."
      ],
      "metadata": {
        "id": "sVr7sPWuG_qj"
      }
    },
    {
      "cell_type": "markdown",
      "source": [],
      "metadata": {
        "id": "5FLnO6-R6Fw2"
      }
    },
    {
      "cell_type": "code",
      "source": [
        "import os\n",
        "from sklearn.svm import OneClassSVM\n",
        "\n",
        "QUICK_MODE = False\n",
        "if QUICK_MODE:\n",
        "  oc_svm_params_to_test = [\n",
        "        ParameterToTest(name=\"kernel\", values=['linear', 'rbf']),\n",
        "        ParameterToTest(name=\"nu\", values=[0.01, 0.1, 0.2]),\n",
        "        ParameterToTest(name=\"gamma\", values=['scale', 'auto'], required_params={\"kernel\": 'rbf'}),\n",
        "    ]\n",
        "\n",
        "  oc_svm_sampling_method_to_test = [\n",
        "    SamplingMethodToTest(method=SamplingMethod.NONE, sampling_strategy=0, data_splits=standard_data_splits),\n",
        "    SamplingMethodToTest(method=SamplingMethod.UNDER, sampling_strategy=1, data_splits=undersampling_data_splits),\n",
        "    SamplingMethodToTest(method=SamplingMethod.OVER, sampling_strategy=1, data_splits=oversampling_data_splits),\n",
        "  ]\n",
        "else:\n",
        "  oc_svm_params_to_test = [\n",
        "        ParameterToTest(name=\"kernel\", values=['linear', 'rbf']),\n",
        "        ParameterToTest(name=\"nu\", values=[0.01, 0.05, 0.1, 0.2]),\n",
        "        ParameterToTest(name=\"gamma\", values=['scale', 'auto', 0.01, 0.1, 1.0], required_params={\"kernel\": 'rbf'}),\n",
        "    ]\n",
        "\n",
        "  oc_svm_sampling_method_to_test = [\n",
        "        SamplingMethodToTest(method=SamplingMethod.NONE, sampling_strategy=0, data_splits=standard_data_splits),\n",
        "        SamplingMethodToTest(method=SamplingMethod.UNDER, sampling_strategy=0.5,\n",
        "                             data_splits=undersampling_50_data_splits),\n",
        "        SamplingMethodToTest(method=SamplingMethod.UNDER, sampling_strategy=1, data_splits=undersampling_data_splits),\n",
        "        SamplingMethodToTest(method=SamplingMethod.OVER, sampling_strategy=0.5,\n",
        "                             data_splits=oversampling_50_data_splits),\n",
        "        SamplingMethodToTest(method=SamplingMethod.OVER, sampling_strategy=1, data_splits=oversampling_data_splits),\n",
        "    ]\n",
        "\n",
        "def build_model_function(**kwargs):\n",
        "    return OneClassSVM(**kwargs)\n",
        "\n",
        "ocv_svm_model_name = \"oc_svm\"\n",
        "ocv_svm_model_file_path = f\"results-{ocv_svm_model_name}.csv\"\n",
        "if (QUICK_MODE and os.path.exists(ocv_svm_model_file_path)):\n",
        "  oc_svm_params_tune_results = pd.read_csv(ocv_svm_model_file_path, sep=\"\\t\", index_col=0)\n",
        "else:\n",
        "  oc_svm_params_tune_results = params_tune(oc_svm_params_to_test, sampling_methods_to_test=oc_svm_sampling_method_to_test,\n",
        "                                         build_model_function=build_model_function, model_name=ocv_svm_model_name)\n",
        "print(oc_svm_params_tune_results)"
      ],
      "metadata": {
        "id": "YDhTQ2ZsyCHe"
      },
      "execution_count": null,
      "outputs": []
    },
    {
      "cell_type": "code",
      "source": [
        "plot_metric_groups_for_param(oc_svm_params_tune_results, param_name=\"kernel\", metric_names=[\"mean_recall\", \"mean_precision\", \"mean_f1\", \"mean_avg_precision\", \"mean_interpolated_auc\"])"
      ],
      "metadata": {
        "id": "MHuUIQcFtOXq"
      },
      "execution_count": null,
      "outputs": []
    },
    {
      "cell_type": "code",
      "source": [
        "plot_metric_groups_for_param(oc_svm_params_tune_results, param_name=\"nu\", metric_names=[\"mean_recall\", \"mean_precision\", \"mean_f1\", \"mean_avg_precision\", \"mean_interpolated_auc\"])"
      ],
      "metadata": {
        "id": "u7mmT-htWgs_"
      },
      "execution_count": null,
      "outputs": []
    },
    {
      "cell_type": "code",
      "source": [
        "plot_metric_groups_for_param(oc_svm_params_tune_results, param_name=\"gamma\", metric_names=[\"mean_recall\", \"mean_precision\", \"mean_f1\", \"mean_avg_precision\", \"mean_interpolated_auc\"])"
      ],
      "metadata": {
        "id": "eH-eG5nOWpWg"
      },
      "execution_count": null,
      "outputs": []
    },
    {
      "cell_type": "code",
      "source": [
        "plot_metric_groups_for_sampling(oc_svm_params_tune_results, metric_names=[\"mean_recall\", \"mean_precision\", \"mean_f1\", \"mean_avg_precision\", \"mean_interpolated_auc\"])"
      ],
      "metadata": {
        "id": "YvKXC2Xly2ys"
      },
      "execution_count": null,
      "outputs": []
    },
    {
      "cell_type": "markdown",
      "source": [
        "### Las izolacyjny"
      ],
      "metadata": {
        "id": "NLpm9wWPHDTc"
      }
    },
    {
      "cell_type": "code",
      "source": [
        "# Parametry do badania\n",
        "n_estimators = [50, 100, 200, 300]\n",
        "max_samples = ['auto', 128, 256, 512]\n",
        "contamination = [0.0001, 0.001, 0.005, 0.01]"
      ],
      "metadata": {
        "id": "TsT05mB3dgM7"
      },
      "execution_count": null,
      "outputs": []
    },
    {
      "cell_type": "markdown",
      "source": [
        "### Lokalny czynnik odstający"
      ],
      "metadata": {
        "id": "ZyRJMd0dHQ96"
      }
    },
    {
      "cell_type": "code",
      "source": [
        "# Parametry do badania\n",
        "n_neighbors = [5, 10, 20, 35, 50]\n",
        "contamination = [0.0001, 0.001, 0.005, 0.01]"
      ],
      "metadata": {
        "id": "6GOZ6zPrdh8L"
      },
      "execution_count": null,
      "outputs": []
    },
    {
      "cell_type": "markdown",
      "source": [
        "### DBSCAN\n"
      ],
      "metadata": {
        "id": "_ukLASdfHVai"
      }
    },
    {
      "cell_type": "code",
      "source": [
        "# Parametry do badania\n",
        "eps = [0.5, 1.0, 1.5, 2.0, 3.0]\n",
        "min_samples = [10, 20, 50, 100]"
      ],
      "metadata": {
        "id": "IYvlACMhdiZq"
      },
      "execution_count": null,
      "outputs": []
    }
  ]
}
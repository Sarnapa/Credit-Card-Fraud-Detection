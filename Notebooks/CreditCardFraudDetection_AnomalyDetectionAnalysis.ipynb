{
  "nbformat": 4,
  "nbformat_minor": 0,
  "metadata": {
    "colab": {
      "provenance": [],
      "collapsed_sections": [
        "zpPMSLkvZP26",
        "sVr7sPWuG_qj",
        "NLpm9wWPHDTc",
        "ZyRJMd0dHQ96",
        "_ukLASdfHVai"
      ],
      "toc_visible": true,
      "include_colab_link": true
    },
    "kernelspec": {
      "name": "python3",
      "display_name": "Python 3"
    },
    "language_info": {
      "name": "python"
    }
  },
  "cells": [
    {
      "cell_type": "markdown",
      "metadata": {
        "id": "view-in-github",
        "colab_type": "text"
      },
      "source": [
        "<a href=\"https://colab.research.google.com/github/Sarnapa/Credit-Card-Fraud-Detection/blob/main/Notebooks/CreditCardFraudDetection_AnomalyDetectionAnalysis.ipynb\" target=\"_parent\"><img src=\"https://colab.research.google.com/assets/colab-badge.svg\" alt=\"Open In Colab\"/></a>"
      ]
    },
    {
      "cell_type": "markdown",
      "source": [
        "# Temat zadania: Analityczny - detekcja anomalii\n",
        "\n"
      ],
      "metadata": {
        "id": "zpPMSLkvZP26"
      }
    },
    {
      "cell_type": "markdown",
      "source": [
        "Autorzy: Michał Bartnicki, Michał Piotrak\n",
        "\n",
        "Kod zadania: DAz11"
      ],
      "metadata": {
        "id": "9Jl5x2knZZYD"
      }
    },
    {
      "cell_type": "markdown",
      "source": [
        "# Przygotowanie oraz konfiguracja środowiska uruchomieniowego"
      ],
      "metadata": {
        "id": "jJkQwQauZjz0"
      }
    },
    {
      "cell_type": "markdown",
      "source": [
        "W tej sekcji umieszczamy listę zmiennych konfiguracyjnych, które mają wpływ na wykonanie przetwarzania zawartego w danym notatniku. Poza tym, przygotowaliśmy fragment skryptu, który zadba o instalacje niezbędnych bibliotek zewnętrznych."
      ],
      "metadata": {
        "id": "fmcZ14wBZ1En"
      }
    },
    {
      "cell_type": "code",
      "source": [
        "# Lista zmiennych konfiguracyjnych\n",
        "\n",
        "# Flaga, której ustawienie umożliwia szybsze wykonanie przetwarzania zawartego w notatniku\n",
        "# w celu demonstracyjnym. Wiąże się z wczytaniem mniejszej ilości danych ze zbioru źródłowego.\n",
        "QUICK_MODE = True\n",
        "# Procent danych, który bierzemy pod uwagę przy pracy w trybie QUICK_MODE\n",
        "QUICK_MODE_DATA_PERCENTAGE = 0.05\n",
        "# Liczba foldów (warstw, na które został podzielony wejściowy zbiór danych) w k-krotnej walidacji\n",
        "CV_FOLDS_COUNT = 5\n",
        "if QUICK_MODE:\n",
        "  CV_FOLDS_COUNT = 2\n",
        "\n",
        "# Zainstalowanie niezbędnych bibliotek\n",
        "try:\n",
        "  import gdown\n",
        "except ImportError:\n",
        "  !pip install -q gdown\n",
        "\n",
        "try:\n",
        "  import imblearn\n",
        "except ImportError:\n",
        "  !pip install -q imbalanced-learn\n",
        "\n",
        "try:\n",
        "  import matplotlib.pyplot\n",
        "except ImportError:\n",
        "  !pip install -q matplotlib\n",
        "\n",
        "try:\n",
        "  import numpy as np\n",
        "except ImportError:\n",
        "  !pip install -q numpy\n",
        "\n",
        "try:\n",
        "  import pandas as pd\n",
        "except ImportError:\n",
        "  !pip install -q pandas\n",
        "\n",
        "try:\n",
        "  import sklearn\n",
        "except ImportError:\n",
        "  !pip install -q scikit-learn"
      ],
      "metadata": {
        "id": "1MZSAREdIaab"
      },
      "execution_count": 18,
      "outputs": []
    },
    {
      "cell_type": "markdown",
      "source": [
        "# Wstępne przetwarzanie danych\n"
      ],
      "metadata": {
        "id": "0MM0xPqIYedF"
      }
    },
    {
      "cell_type": "markdown",
      "source": [
        "## Charakterystyka danych\n",
        "\n",
        "W naszym projekcie wykorzystujemy zbiór [Credit Card Fraud Detection](https://www.kaggle.com/datasets/mlg-ulb/creditcardfraud).\n",
        "\n",
        "Poniżej przedstawiamy podgląd zbioru *creditcardfraud*\n",
        "\n",
        "Ze względu na to, że metody nienadzorowane zwracają przy predykcji wartość -1 dla osobnika uznanego za reprezentanta klasy mniejszościowej, a dla klasy większościowej wartość większą niż 0, dokonujemy tutaj odpowiedniego mapowania etykiet, uznając, że etykieta \"-1\" określa przykłady uznane za oszustwa, za to etykieta \"1\" - jako transakcje regularne."
      ],
      "metadata": {
        "id": "3rq52WjWRZvJ"
      }
    },
    {
      "cell_type": "code",
      "source": [
        "from enum import Enum\n",
        "\n",
        "class Transaction(Enum):\n",
        "    VALID_TRANSACTION = (1, \"Transakcja regularna\")\n",
        "    FRAUD = (-1, \"Oszustwo\")\n",
        "\n",
        "    def __init__(self, value, label):\n",
        "        self._value_ = value\n",
        "        self.label = label\n",
        "\n",
        "    @classmethod\n",
        "    def map_label(cls, df):\n",
        "        \"\"\"\n",
        "        Mapuje wartości z oryginalnej kolumny \"Class\" (0 - transakcja regularna, 1 - oszustwo) na wartości zdefiniowane w Enum.\n",
        "        \"\"\"\n",
        "        return df.map({0: cls.VALID_TRANSACTION.value, 1: cls.FRAUD.value})\n",
        "\n",
        "    @classmethod\n",
        "    def to_string(cls, val):\n",
        "        \"\"\"\n",
        "        Zwraca postać tekstową etykiety.\n",
        "        \"\"\"\n",
        "        for member in cls:\n",
        "            if member.value == val:\n",
        "                return member.label\n",
        "        return str(val)\n",
        "\n",
        "# Tworzymy mapę: {1: \"Transakcja regularna\", -1: \"Oszustwo\"}, która ułatwi nam interpretację danych / wyników\n",
        "class_labels_map = {t.value: t.label for t in Transaction}"
      ],
      "metadata": {
        "id": "Vj3cWD4AaD7J"
      },
      "execution_count": 19,
      "outputs": []
    },
    {
      "cell_type": "code",
      "source": [
        "import os\n",
        "\n",
        "# ID pliku z Google Drive\n",
        "file_id = \"14HSXm9CDBA0DxLfSxGCgXQxUXyBxvfno\"\n",
        "output_path = \"creditcard.csv\"\n",
        "\n",
        "# Pobierz tylko, jeśli pliku jeszcze nie ma\n",
        "if not os.path.exists(output_path):\n",
        "    url = f\"https://drive.google.com/uc?id={file_id}\"\n",
        "    gdown.download(url, output_path, quiet=False)\n",
        "else:\n",
        "    print(\"Plik ze zbiorem danych już istnieje lokalnie.\")\n",
        "\n",
        "# Wczytaj do DataFrame\n",
        "df = pd.read_csv(output_path)\n",
        "\n",
        "# Mapowanie etykiet\n",
        "df[\"Class\"] = Transaction.map_label(df[\"Class\"])\n",
        "\n",
        "print(df.head(3))\n"
      ],
      "metadata": {
        "colab": {
          "base_uri": "https://localhost:8080/"
        },
        "id": "-kv4qD-krP1h",
        "outputId": "69d76bac-691c-42ce-8982-a2536e5f4e39"
      },
      "execution_count": 20,
      "outputs": [
        {
          "output_type": "stream",
          "name": "stdout",
          "text": [
            "Plik ze zbiorem danych już istnieje lokalnie.\n",
            "   Time        V1        V2        V3        V4        V5        V6        V7  \\\n",
            "0   0.0 -1.359807 -0.072781  2.536347  1.378155 -0.338321  0.462388  0.239599   \n",
            "1   0.0  1.191857  0.266151  0.166480  0.448154  0.060018 -0.082361 -0.078803   \n",
            "2   1.0 -1.358354 -1.340163  1.773209  0.379780 -0.503198  1.800499  0.791461   \n",
            "\n",
            "         V8        V9  ...       V21       V22       V23       V24       V25  \\\n",
            "0  0.098698  0.363787  ... -0.018307  0.277838 -0.110474  0.066928  0.128539   \n",
            "1  0.085102 -0.255425  ... -0.225775 -0.638672  0.101288 -0.339846  0.167170   \n",
            "2  0.247676 -1.514654  ...  0.247998  0.771679  0.909412 -0.689281 -0.327642   \n",
            "\n",
            "        V26       V27       V28  Amount  Class  \n",
            "0 -0.189115  0.133558 -0.021053  149.62      1  \n",
            "1  0.125895 -0.008983  0.014724    2.69      1  \n",
            "2 -0.139097 -0.055353 -0.059752  378.66      1  \n",
            "\n",
            "[3 rows x 31 columns]\n"
          ]
        }
      ]
    },
    {
      "cell_type": "markdown",
      "source": [
        "Poniżej przedstawiamy krótką charakterystykę danych.\n",
        "Warto zauważyć, że zbiór jest wysoce niezbalansowany."
      ],
      "metadata": {
        "id": "dYRh-H_kH9Bf"
      }
    },
    {
      "cell_type": "code",
      "source": [
        "print(\"Liczba atrybutów:\", df.shape[1] - 1)\n",
        "print(\"Całkowita liczba transakcji:\", df.shape[0], end='\\n\\n')\n",
        "print(\"Odsetek oszustw i transakcji regularnych w całym zbiorze:\\n\\n\",\n",
        "      df['Class'].value_counts(normalize=True).rename(index=class_labels_map), end='\\n\\n')\n",
        "print(\"Całkowita liczba oszustw i transakcji regularnych\\n\\n\", df['Class'].value_counts().rename(index=class_labels_map))\n"
      ],
      "metadata": {
        "id": "9805Lo7uKJ2R",
        "colab": {
          "base_uri": "https://localhost:8080/"
        },
        "outputId": "9d4b5300-7843-4879-d125-4284a38f86d2"
      },
      "execution_count": 21,
      "outputs": [
        {
          "output_type": "stream",
          "name": "stdout",
          "text": [
            "Liczba atrybutów: 30\n",
            "Całkowita liczba transakcji: 284807\n",
            "\n",
            "Odsetek oszustw i transakcji regularnych w całym zbiorze:\n",
            "\n",
            " Class\n",
            "Transakcja regularna    0.998273\n",
            "Oszustwo                0.001727\n",
            "Name: proportion, dtype: float64\n",
            "\n",
            "Całkowita liczba oszustw i transakcji regularnych\n",
            "\n",
            " Class\n",
            "Transakcja regularna    284315\n",
            "Oszustwo                   492\n",
            "Name: count, dtype: int64\n"
          ]
        }
      ]
    },
    {
      "cell_type": "code",
      "source": [
        "# Do losowania wskazanego procentu danych, z zachowaniem proporcji klas\n",
        "def stratified_sample(df, frac=0.2, seed=42):\n",
        "    sampled_parts = []\n",
        "    for label in df[\"Class\"].unique():\n",
        "        part = df[df[\"Class\"] == label].sample(frac=frac, random_state=seed)\n",
        "        sampled_parts.append(part)\n",
        "    return pd.concat(sampled_parts).sample(frac=1, random_state=seed).reset_index(drop=True)\n",
        "\n",
        "# Mniejszy zbiór danych do szybszego testowania z zachowaniem proporcji klas\n",
        "if QUICK_MODE:\n",
        "  df = stratified_sample(df, frac=QUICK_MODE_DATA_PERCENTAGE)"
      ],
      "metadata": {
        "id": "_KRHli4NacSA"
      },
      "execution_count": 22,
      "outputs": []
    },
    {
      "cell_type": "markdown",
      "source": [
        "## Usuwanie duplikatów\n",
        "\n",
        "Zbiór posiada następującą ilość duplikatów:\n",
        "\n"
      ],
      "metadata": {
        "id": "5YzcqfJjKhAQ"
      }
    },
    {
      "cell_type": "code",
      "source": [
        "duplicates = df.duplicated(keep='first')\n",
        "duplicates_count = duplicates.sum()\n",
        "print(duplicates_count)"
      ],
      "metadata": {
        "id": "R78N0igKMvRu",
        "colab": {
          "base_uri": "https://localhost:8080/"
        },
        "outputId": "bfc2a152-b984-44d5-8944-6996b4d1f9a1"
      },
      "execution_count": 23,
      "outputs": [
        {
          "output_type": "stream",
          "name": "stdout",
          "text": [
            "2\n"
          ]
        }
      ]
    },
    {
      "cell_type": "markdown",
      "source": [
        "Należy usunąć je ze zbioru danych"
      ],
      "metadata": {
        "id": "5JNihzHTM_5s"
      }
    },
    {
      "cell_type": "code",
      "source": [
        "df.drop_duplicates(inplace=True)\n",
        "print(\"Usunięto duplikaty. Pozostało transakcji w zbiorze:\", df.shape[0])\n"
      ],
      "metadata": {
        "id": "WpP1S58LNCgh",
        "colab": {
          "base_uri": "https://localhost:8080/"
        },
        "outputId": "ecf33113-6607-4dfe-c204-b698cdaeab65"
      },
      "execution_count": 24,
      "outputs": [
        {
          "output_type": "stream",
          "name": "stdout",
          "text": [
            "Usunięto duplikaty. Pozostało transakcji w zbiorze: 14239\n"
          ]
        }
      ]
    },
    {
      "cell_type": "markdown",
      "source": [
        "## Sprawdzanie brakujących danych (NaN/null)\n",
        "Dane nie posiadają transakcji z brakującymi atrybutami, nie ma konieczności usuwania"
      ],
      "metadata": {
        "id": "W5Lk7XYONUEY"
      }
    },
    {
      "cell_type": "code",
      "source": [
        "missing_data = df.isnull().values.any()\n",
        "print(f\"Zbiór nie zawiera brakujących danych (missing_data: {missing_data})\")\n"
      ],
      "metadata": {
        "id": "amyCsncxNrrC",
        "colab": {
          "base_uri": "https://localhost:8080/"
        },
        "outputId": "8a75ca8e-adf7-4d7f-86ad-9a3e6f63851b"
      },
      "execution_count": 25,
      "outputs": [
        {
          "output_type": "stream",
          "name": "stdout",
          "text": [
            "Zbiór nie zawiera brakujących danych (missing_data: False)\n"
          ]
        }
      ]
    },
    {
      "cell_type": "markdown",
      "source": [
        "## Skalowanie\n",
        "\n",
        "Wiekszość atrybutów została już wczęsniej przeskalowana. Pozostało wykonać to samo dla kolumn:\n",
        "- `Time`\n",
        "- `Amount`\n",
        "\n",
        "W tym celu wykorzystamy [RobustScaler](https://scikit-learn.org/stable/modules/generated/sklearn.preprocessing.RobustScaler.html) z biblioteki scikit-learn, który jest odporny na wartości odstające."
      ],
      "metadata": {
        "id": "fu8j8uWgN4qe"
      }
    },
    {
      "cell_type": "code",
      "source": [
        "from sklearn.preprocessing import RobustScaler\n",
        "\n",
        "if set(['Amount','Time']).issubset(df.columns):\n",
        "  scaler = RobustScaler()\n",
        "  amount_scaled = scaler.fit_transform(df['Amount'].values.reshape(-1, 1))\n",
        "  time_scaled = scaler.fit_transform(df['Time'].values.reshape(-1, 1))\n",
        "  df.drop(['Time', 'Amount'], axis=1, inplace=True)\n",
        "\n",
        "  df.insert(0, 'time_scaled', time_scaled)\n",
        "  df.insert(1, 'amount_scaled', amount_scaled)\n",
        "\n",
        "print(\"Kolumny Amount i Time zostały przekształcone\")\n",
        "print(df.head(3))"
      ],
      "metadata": {
        "id": "eFIyKJIWPKM0",
        "colab": {
          "base_uri": "https://localhost:8080/"
        },
        "outputId": "7ad1f7ec-0d82-4aaf-9af5-51687557f4c2"
      },
      "execution_count": 26,
      "outputs": [
        {
          "output_type": "stream",
          "name": "stdout",
          "text": [
            "Kolumny Amount i Time zostały przekształcone\n",
            "   time_scaled  amount_scaled        V1        V2        V3        V4  \\\n",
            "0    -0.326365      -0.291096  1.181213  1.224356 -1.488377  1.679347   \n",
            "1     0.977544      -0.294521  2.055618  0.682946 -3.150166  0.597500   \n",
            "2     0.150763      -0.120006 -0.557542  1.064676  0.524862 -1.771705   \n",
            "\n",
            "         V5        V6        V7        V8  ...       V20       V21       V22  \\\n",
            "0  0.817619 -1.560638  0.670368 -0.239600  ... -0.112195 -0.167333 -0.373286   \n",
            "1  1.367691 -1.249724  0.746882 -0.347442  ... -0.087419 -0.003718  0.193651   \n",
            "2  1.141241 -0.310842  0.624603  0.006453  ... -0.081430 -0.514084 -1.286546   \n",
            "\n",
            "        V23       V24       V25       V26       V27       V28  Class  \n",
            "0 -0.132332  0.061062  0.723608 -0.283007  0.053479  0.095746      1  \n",
            "1 -0.050739  0.550247  0.370735  0.662582 -0.078566 -0.022028      1  \n",
            "2 -0.119764 -0.201779 -0.333499  0.691922 -0.011959  0.155459      1  \n",
            "\n",
            "[3 rows x 31 columns]\n"
          ]
        }
      ]
    },
    {
      "cell_type": "markdown",
      "source": [
        "## Redukcja wymiarowości\n",
        "Według opisu zbioru danych, dane przeszły tansformację PCA, która jest techniką\n",
        "redukcji wymiarowości, co wskazuje na brak konieczności dalszych redukcji.\n",
        "Sprawdzenie korelacji wszystkich par kolumn potwierdza nasze przypuszczenia."
      ],
      "metadata": {
        "id": "cTs0N8PdRdW0"
      }
    },
    {
      "cell_type": "code",
      "source": [
        "correlation_matrix = df.corr().abs()\n",
        "upper_triangle = correlation_matrix.where(np.triu(np.ones(correlation_matrix.shape), k=1).astype(bool))\n",
        "highest_correlation = upper_triangle.max().max()\n",
        "\n",
        "print(f\"Najwyższa korelacja między dwoma dowolnymi parami atrybutów: {highest_correlation}\")"
      ],
      "metadata": {
        "id": "WJtxnOfja037",
        "colab": {
          "base_uri": "https://localhost:8080/"
        },
        "outputId": "9cd8014d-2de0-4987-a65f-13519c37da32"
      },
      "execution_count": 27,
      "outputs": [
        {
          "output_type": "stream",
          "name": "stdout",
          "text": [
            "Najwyższa korelacja między dwoma dowolnymi parami atrybutów: 0.49714708460719315\n"
          ]
        }
      ]
    },
    {
      "cell_type": "markdown",
      "source": [],
      "metadata": {
        "id": "GQn4sOz27qna"
      }
    },
    {
      "cell_type": "markdown",
      "source": [
        "# Przygotowanie zbiorów treningowych oraz testowych\n",
        "\n"
      ],
      "metadata": {
        "id": "iHfsvmDzYxYZ"
      }
    },
    {
      "cell_type": "markdown",
      "source": [
        "https://www.kaggle.com/code/janiobachmann/credit-fraud-dealing-with-imbalanced-datasets\n",
        "\n",
        "1. Nie testować na danych, które zostały under lub oversamplowane.\n",
        "\n",
        "2. Tutaj radzą, że jak używamy k krotną walidację to podczas jej robić to under / oversamplowanie\n",
        "\n",
        "Plan:\n",
        "1. Wpleść w k krotną walidację alternatywe ze mozna uzyc undersampling i oversampling - zrobione\n",
        "2. Dla undersamplingu i oversamplingu pokazac liczbe przykladow tych dwoch klas i porownanie z tym jak bylo wczesniej - zrobione\n",
        "\n",
        "Jeszcze do pomyślenia:\n",
        "1. Bo generalnie w praktyce to chyba jest tak, że na początek dzielimy sobie dany zbiór na treningowy i testowy i następnie ten treningowy podajemy działaniu krzyżowej walidacji, gdzie mamy podział na zbiór treningowy i walidacyjny i w wyniku tego możemy stroić parametry tego modelu. A dane testowe ostatecznie służą nam do weryfikacji danego modelu. Do pomyślenia czy tak podejść czy jak jest jest dobrze.\n",
        "\n"
      ],
      "metadata": {
        "id": "PAXmvEjUYcCk"
      }
    },
    {
      "cell_type": "code",
      "source": [
        "from enum import Enum\n",
        "from imblearn.over_sampling import SMOTE\n",
        "from imblearn.under_sampling import RandomUnderSampler\n",
        "import matplotlib.pyplot as plt\n",
        "import pandas as pd\n",
        "from sklearn.model_selection import StratifiedKFold, train_test_split\n",
        "\n",
        "# Klasa reprezentująca podział danych\n",
        "class DataSplit:\n",
        "    def __init__(self, x_train, x_test, y_train, y_test):\n",
        "        self.x_train = x_train\n",
        "        self.x_test = x_test\n",
        "        self.y_train = y_train\n",
        "        self.y_test = y_test\n",
        "\n",
        "# Enum do wyboru metody samplingu\n",
        "class SamplingMethod(Enum):\n",
        "    NONE = 0\n",
        "    UNDER = 1\n",
        "    OVER = 2\n",
        "\n",
        "def get_sampler(sampling_method: SamplingMethod, sampling_strategy: float = 1.0, random_seed: int = 42):\n",
        "    if sampling_method == SamplingMethod.UNDER:\n",
        "        sampler = RandomUnderSampler(sampling_strategy=sampling_strategy, random_state=random_seed)\n",
        "    elif sampling_method == SamplingMethod.OVER:\n",
        "        sampler = SMOTE(sampling_strategy=sampling_strategy, random_state=random_seed)\n",
        "    else:\n",
        "        sampler = None\n",
        "\n",
        "    return sampler\n",
        "\n",
        "# Funkcja przygotowująca dane\n",
        "def prepare_train_test_data_splits(\n",
        "    data: pd.DataFrame,\n",
        "    use_cv: bool = True,\n",
        "    k: int = 5,\n",
        "    test_data_size: float = 0.2,\n",
        "    sampling_method: SamplingMethod = SamplingMethod.NONE,\n",
        "    sampling_strategy: float = 1.0,\n",
        "    random_seed: int = 42\n",
        "):\n",
        "    \"\"\"\n",
        "    Przygotowuje dane do trenowania modeli z opcją k-krotnej walidacji i samplingu.\n",
        "\n",
        "    Parametry:\n",
        "    - data: DataFrame z danymi wejściowymi, gdzie kolumna \"Class\" jest etykietą\n",
        "    - use_cv: czy używać k-krotnej walidacji (domyślnie True)\n",
        "    - k: liczba foldów (warstw, na które został podzielony wejściowy zbiór danych) w k-krotnej walidacji (domyślnie 5)\n",
        "    - test_data_size: rozmiar zbioru testowego (domyślnie 0.2, czyli 20% danych)\n",
        "    - sampling_method: metoda samplingu (domyślnie SamplingMethod.NONE)\n",
        "    - sampling_strategy: proporcja liczby egzemplarzy klasy mniejszościowej do klasy większościowej (lub na odwrót) po samplingu (domyślnie 1.0, w obu klasach będzie tyle samo przykładów)\n",
        "    - random_seed: ziarno dla generatora liczb losowych (domyślnie 42)\n",
        "\n",
        "    Zwraca:\n",
        "    - Listę DataSplit: jeden element przy use_cv=False, k elementów przy use_cv=True\n",
        "    \"\"\"\n",
        "\n",
        "    x = data.drop(columns=[\"Class\"])\n",
        "    y = data[\"Class\"]\n",
        "\n",
        "    sampler = get_sampler(sampling_method, sampling_strategy, random_seed)\n",
        "\n",
        "    data_splits = []\n",
        "    if use_cv:\n",
        "        skf = StratifiedKFold(n_splits=k, shuffle=True, random_state=random_seed)\n",
        "\n",
        "        for train_idx, test_idx in skf.split(x, y):\n",
        "            x_train, x_test = x.iloc[train_idx], x.iloc[test_idx]\n",
        "            y_train, y_test = y.iloc[train_idx], y.iloc[test_idx]\n",
        "\n",
        "            if sampler:\n",
        "                x_train, y_train = sampler.fit_resample(x_train, y_train)\n",
        "\n",
        "            data_splits.append(DataSplit(x_train, x_test, y_train, y_test))\n",
        "    else:\n",
        "        x_train, x_test, y_train, y_test = train_test_split(\n",
        "            x, y, test_size=test_data_size, stratify=y, random_state=random_seed\n",
        "        )\n",
        "        if sampler:\n",
        "            x_train, y_train = sampler.fit_resample(x_train, y_train)\n",
        "\n",
        "        data_splits.append(DataSplit(x_train, x_test, y_train, y_test))\n",
        "\n",
        "    return data_splits\n",
        "\n",
        "def plot_class_distribution(data_splits, plot_title=\"Rozkład klas\"):\n",
        "    \"\"\"\n",
        "    Rysuje wykresy słupkowe pokazujące rozkład klas w zbiorach danych.\n",
        "\n",
        "    Parametry:\n",
        "    - data_splits: obiekt DataSplit albo lista obiektów DataSplit\n",
        "    - plot_title: tytuł wykresu (domyślnie \"Rozkład klas\")\n",
        "    \"\"\"\n",
        "\n",
        "    if not isinstance(data_splits, list):\n",
        "        data_splits = [data_splits]\n",
        "\n",
        "    data_splits_count = len(data_splits)\n",
        "    for i, data_split in enumerate(data_splits, 1):\n",
        "        train_examples_counts = data_split.y_train.value_counts().sort_index()\n",
        "        test_examples_counts = data_split.y_test.value_counts().sort_index()\n",
        "        classes = class_labels_map.keys()\n",
        "\n",
        "        bar_width = 0.35\n",
        "        x = np.arange(len(classes))\n",
        "\n",
        "        fig, ax = plt.subplots(figsize=(6, 4))\n",
        "        bars1 = ax.bar(x - bar_width/2, [train_examples_counts.get(c, 0) for c in classes],\n",
        "                       width=bar_width, label='Dane treningowe', color='skyblue')\n",
        "        bars2 = ax.bar(x + bar_width/2, [test_examples_counts.get(c, 0) for c in classes],\n",
        "                       width=bar_width, label='Dane testowe', color='salmon')\n",
        "\n",
        "        # Dodanie wartości nad słupkami\n",
        "        for bar in bars1 + bars2:\n",
        "            height = bar.get_height()\n",
        "            ax.annotate(f'{height}',\n",
        "                        xy=(bar.get_x() + bar.get_width() / 2, height),\n",
        "                        xytext=(0, 3),\n",
        "                        textcoords=\"offset points\",\n",
        "                        ha='center', va='bottom')\n",
        "\n",
        "        train_columns_height = [train_examples_counts.get(c, 0) for c in classes]\n",
        "        test_columns_height = [test_examples_counts.get(c, 0) for c in classes]\n",
        "\n",
        "        max_height = max(train_columns_height + test_columns_height)\n",
        "        # Ustawienie marginesu na osi Y\n",
        "        y_margin = max_height * 0.35\n",
        "\n",
        "        ax.set_title(f\"{plot_title} – podział danych numer {i}\" if data_splits_count > 1 else f\"{plot_title}\")\n",
        "        ax.set_xlabel(\"Klasa\")\n",
        "        ax.set_ylabel(\"Liczba przykładów\")\n",
        "        ax.set_xticks(x)\n",
        "        ax.set_xticklabels([class_labels_map.get(c, str(c)) for c in classes])\n",
        "        ax.set_ylim(0, max_height + y_margin)\n",
        "        ax.legend()\n",
        "        ax.grid(axis='y', linestyle='--', alpha=0.7)\n",
        "\n",
        "        plt.tight_layout()\n",
        "        plt.show()"
      ],
      "metadata": {
        "id": "dwMjU3_IpsFN"
      },
      "execution_count": 28,
      "outputs": []
    },
    {
      "cell_type": "code",
      "source": [
        "# Podział danych na zbiór treningowy oraz zbiór testowy\n",
        "train_df, test_df = train_test_split(df, test_size=0.2, stratify=df[\"Class\"], random_state=42)\n",
        "train_test_data_split = DataSplit(train_df.drop(columns=[\"Class\"]), test_df.drop(columns=[\"Class\"]),\n",
        "                                  train_df[\"Class\"], test_df[\"Class\"])\n",
        "plot_class_distribution(train_test_data_split, \"Rozkład klas w zbiorze treningowym oraz testowym\")\n",
        "\n",
        "# Przygotowanie podziałów danych na różne przypadki z uwględnieniem metod samplingu oraz k - krotnej walidacji\n",
        "standard_data_splits = prepare_train_test_data_splits(data=train_df, use_cv=True, k=CV_FOLDS_COUNT,\n",
        "                                                     sampling_method=SamplingMethod.NONE)\n",
        "undersampling_50_data_splits = prepare_train_test_data_splits(data=train_df, use_cv=True, k=CV_FOLDS_COUNT,\n",
        "                                                             sampling_method=SamplingMethod.UNDER, sampling_strategy=0.5)\n",
        "undersampling_data_splits = prepare_train_test_data_splits(data=train_df, use_cv=True, k=CV_FOLDS_COUNT,\n",
        "                                                             sampling_method=SamplingMethod.UNDER, sampling_strategy=1.0)\n",
        "oversampling_50_data_splits = prepare_train_test_data_splits(data=train_df, use_cv=True, k=CV_FOLDS_COUNT,\n",
        "                                                             sampling_method=SamplingMethod.OVER, sampling_strategy=0.5)\n",
        "oversampling_data_splits = prepare_train_test_data_splits(data=train_df, use_cv=True, k=CV_FOLDS_COUNT,\n",
        "                                                             sampling_method=SamplingMethod.OVER, sampling_strategy=1.0)\n",
        "\n",
        "# Do weryfikacji tylko\n",
        "#plot_class_distribution(standard_data_splits, \"Rozkład klas bez samplingu\")\n",
        "#plot_class_distribution(undersampling_50_data_splits, \"Rozkład klas po undersamplingu (50%)\")\n",
        "#plot_class_distribution(undersampling_data_splits, \"Rozkład klas po undersamplingu\")\n",
        "#plot_class_distribution(oversampling_50_data_splits, \"Rozkład klas po oversamplingu (50%)\")\n",
        "#plot_class_distribution(oversampling_data_splits, \"Rozkład klas po oversamplingu\")"
      ],
      "metadata": {
        "id": "0N6PCiWF13Js",
        "colab": {
          "base_uri": "https://localhost:8080/",
          "height": 407
        },
        "outputId": "02a01c4f-86fa-4f5a-926e-302657333e21"
      },
      "execution_count": 31,
      "outputs": [
        {
          "output_type": "display_data",
          "data": {
            "text/plain": [
              "<Figure size 600x400 with 1 Axes>"
            ],
            "image/png": "[encoded data removed]"
          },
          "metadata": {}
        }
      ]
    },
    {
      "cell_type": "markdown",
      "source": [
        "# Miary jakości\n",
        "\n",
        "1. average_precision jest odpowiednikiem do wyznaczenia pola pod krzywą PR.\n",
        "2. Nie stosuje się w praktyce klasycznego podejścia z wykorzystaniem wzoru trapezów do wyznaczenia wartości tego pola, ponieważ wg różnych badań które są wspomniane tutaj (https://scikit-learn.org/stable/modules/model_evaluation.html#precision-recall-f-measure-metrics) wyniki wychodziły zbyt optymistyczne niż w praktyce było.\n",
        "3. Dlatego stosujemy average_precision które uśrednia wartość Precision w każdych kolejnych krokach Recall.\n",
        "4. Lecz metoda poniżej na razie wyznacza też wartość tego pola w sposób klasyczny - po to żeby sobie porównać"
      ],
      "metadata": {
        "id": "w8EgewnTY3l5"
      }
    },
    {
      "cell_type": "code",
      "source": [
        "import matplotlib.pyplot as plt\n",
        "import pandas as pd\n",
        "from sklearn.metrics import (\n",
        "    precision_score,\n",
        "    recall_score,\n",
        "    f1_score,\n",
        "    precision_recall_curve,\n",
        "    average_precision_score,\n",
        "    auc\n",
        ")\n",
        "\n",
        "def evaluate_model(model, x_test, y_test, plot_title=\"Krzywa Precision-Recall\", pos_label=Transaction.FRAUD.value,\n",
        "                   draw_plot=True):\n",
        "    \"\"\"\n",
        "    Ocena jakości modelu: precision, recall, F1 score, krzywa PR, average precision i interpolowana wartość AUC PR.\n",
        "    Wyświetla tabelę z wynikami i wykres krzywej PR.\n",
        "\n",
        "    Parametry:\n",
        "    - model: wytrenowany model\n",
        "    - x_test, y_test: dane testowe\n",
        "    - plot_title: tytuł wykresu krzywej PR (domyślnie \"Krzywa Precision-Recall\")\n",
        "\n",
        "    Zwraca:\n",
        "    - DataFrame z metrykami modelu\n",
        "    \"\"\"\n",
        "\n",
        "    # Predykcja\n",
        "    y_pred = model.predict(x_test)\n",
        "    if hasattr(model, \"predict_proba\"):\n",
        "        fraud_idx = list(model.classes_).index(pos_label)\n",
        "        y_scores = model.predict_proba(x_test)[:, fraud_idx]\n",
        "    else:\n",
        "        y_scores = model.decision_function(x_test)\n",
        "\n",
        "    # Podstawowe metryki\n",
        "    recall = recall_score(y_test, y_pred, pos_label=pos_label)\n",
        "    precision = precision_score(y_test, y_pred, pos_label=pos_label)\n",
        "    f1 = f1_score(y_test, y_pred, pos_label=pos_label)\n",
        "\n",
        "    # Wyznaczenie krzywej PR i metryk z nią związanych\n",
        "    precision_vals, recall_vals, _ = precision_recall_curve(y_test, y_scores, pos_label=pos_label)\n",
        "    avg_precision = average_precision_score(y_test, y_scores, pos_label=pos_label)\n",
        "    interpolated_auc = auc(recall_vals, precision_vals)\n",
        "\n",
        "    # Tabelka metryk\n",
        "    results_df = pd.DataFrame({\n",
        "        \"Precision\": [precision],\n",
        "        \"Recall\": [recall],\n",
        "        \"F1-Score\": [f1],\n",
        "        \"Avg. Precision\": [avg_precision],\n",
        "        \"AUC PR (interpolowane)\": [interpolated_auc]\n",
        "    })\n",
        "\n",
        "    print(\"\\n Ocena jakości modelu:\")\n",
        "    print(results_df)\n",
        "    # display(results_df)\n",
        "\n",
        "    if draw_plot:\n",
        "        # Wykres krzywej PR\n",
        "        plt.figure(figsize=(6, 5))\n",
        "        plt.plot(recall_vals, precision_vals, label=f\"AP={avg_precision:.4f}\", color='teal')\n",
        "        plt.fill_between(recall_vals, precision_vals, alpha=0.1, color='teal')\n",
        "        plt.xlabel(\"Recall\")\n",
        "        plt.ylabel(\"Precision\")\n",
        "        plt.title(plot_title)\n",
        "        plt.grid(True, linestyle='--', alpha=0.7)\n",
        "        plt.legend()\n",
        "        plt.tight_layout()\n",
        "        plt.show()\n",
        "\n",
        "    return precision, recall, f1, avg_precision, interpolated_auc\n"
      ],
      "metadata": {
        "id": "6-T72Ns2F1B6"
      },
      "execution_count": 32,
      "outputs": []
    },
    {
      "cell_type": "markdown",
      "source": [
        "# Badania wybranych metod do detekcji anomalii"
      ],
      "metadata": {
        "id": "6ax3iCZ6egR1"
      }
    },
    {
      "cell_type": "markdown",
      "source": [
        "Tutaj robię uspojnienie tego modelu badawczego"
      ],
      "metadata": {
        "id": "3VQxyTQN8hZS"
      }
    },
    {
      "cell_type": "code",
      "source": [
        "from datetime import datetime\n",
        "\n",
        "import matplotlib\n",
        "import numpy as np\n",
        "import pandas as pd\n",
        "from matplotlib import pyplot as plt\n",
        "from sklearn.ensemble import RandomForestClassifier\n",
        "\n",
        "def params_tune(seed = 42):\n",
        "    parameters_to_test = {\n",
        "        \"n_estimators\": [50, 100, 200, 300],\n",
        "        \"max_features\": [\"sqrt\", \"log2\", 0.3, 0.5, None],\n",
        "        \"class_weight\": [\"balanced\", \"balanced_subsample\", None],  # class_weight testujemy tylko przy braku samplingu!\n",
        "    }\n",
        "\n",
        "    test_cases = [(SamplingMethod.NONE, 0, standard_data_splits),\n",
        "                  (SamplingMethod.UNDER, 0.5, undersampling_50_data_splits),\n",
        "                  (SamplingMethod.UNDER, 1.0, undersampling_data_splits),\n",
        "                  (SamplingMethod.OVER, 0.5, oversampling_50_data_splits),\n",
        "                  (SamplingMethod.OVER, 1.0, oversampling_data_splits)]\n",
        "\n",
        "    all_results = []\n",
        "\n",
        "    for param_name, param_values in parameters_to_test.items():\n",
        "        for sampling_method, sampling_strategy, cv_splits in test_cases:\n",
        "            for param_value in param_values:\n",
        "                is_class_weight_test = param_name == \"class_weight\"\n",
        "                is_data_sampled = sampling_method != SamplingMethod.NONE\n",
        "                if is_class_weight_test and is_data_sampled:\n",
        "                    print(f\"Pomiń, ponieważ sampling method: {sampling_method} i param_name: {param_name} \")\n",
        "                    # Jezeli dane sa samplowane, nie testujemy zadnych wartosci parametru \"class_weight\"\n",
        "                    continue\n",
        "\n",
        "                precision_list, recall_list, f1_list, avg_precision_list = [], [], [], []\n",
        "                for fold_id, split in enumerate(cv_splits, 1):\n",
        "                    params = {\n",
        "                        \"random_state\": seed,\n",
        "                        \"n_jobs\": -1,\n",
        "                        param_name: param_value,\n",
        "                    }\n",
        "                    model = RandomForestClassifier(**params)\n",
        "                    print(\n",
        "                        f\"({datetime.now().strftime('%H:%M:%S')}) Fold {fold_id}. {param_name}={param_value}. Sampling method {sampling_method}, sampling strategy {sampling_strategy}, \")\n",
        "                    model.fit(split.x_train, split.y_train)\n",
        "\n",
        "                    metrics_df = evaluate_model(\n",
        "                        model,\n",
        "                        split.x_test,\n",
        "                        split.y_test,\n",
        "                        pos_label=1,\n",
        "                        draw_plot=False,\n",
        "                    )\n",
        "                    precision_list.append(metrics_df[0])\n",
        "                    recall_list.append(metrics_df[1])\n",
        "                    f1_list.append(metrics_df[2])\n",
        "                    avg_precision_list.append(metrics_df[3])\n",
        "\n",
        "                # Uśrednianie\n",
        "                all_results.append(\n",
        "                    dict(\n",
        "                        sampling=sampling_method,\n",
        "                        sampling_strategy=sampling_strategy,\n",
        "                        param=param_name,\n",
        "                        value=param_value,\n",
        "                        mean_precision=np.mean(precision_list),\n",
        "                        mean_recall=np.mean(recall_list),\n",
        "                        mean_f1=np.mean(f1_list),\n",
        "                        mean_avg_precision=np.mean(avg_precision_list),\n",
        "                        # TODO: Opisac dlaczego ddof=1\n",
        "                        std_avg_precision=np.std(avg_precision_list, ddof=1),\n",
        "                    )\n",
        "                )\n",
        "\n",
        "    results_df = pd.DataFrame(all_results)\n",
        "    results_df.to_csv(\"results.csv\", sep='\\t')\n",
        "\n",
        "    return results_df\n",
        "\n",
        "def train_full(train_df: pd.DataFrame, test_df: pd.DataFrame, best_params, sampling_method: SamplingMethod,\n",
        "               sampling_strategy: float = 1.0, seed = 42):\n",
        "    x_train = train_df.drop(columns=[\"Class\"])\n",
        "    y_train = train_df[\"Class\"]\n",
        "\n",
        "    x_test = test_df.drop(columns=[\"Class\"])\n",
        "    y_test = test_df[\"Class\"]\n",
        "\n",
        "    sampler = get_sampler(sampling_method, sampling_strategy, seed)\n",
        "    if sampler:\n",
        "        x_train, y_train = sampler.fit_resample(x_train, y_train)\n",
        "\n",
        "    best_params = {\n",
        "        \"random_state\": seed,\n",
        "        \"n_jobs\": -1,\n",
        "        \"n_estimators\": 100,\n",
        "        \"max_features\": \"sqrt\",\n",
        "        \"class_weight\": None,\n",
        "    }\n",
        "    model = RandomForestClassifier(**best_params)\n",
        "\n",
        "    model.fit(x_train, y_train)\n",
        "\n",
        "    metrics_df = evaluate_model(\n",
        "        model,\n",
        "        x_test,\n",
        "        y_test,\n",
        "        pos_label=1,\n",
        "        draw_plot=True,\n",
        "    )\n",
        "\n",
        "    metrics_df.to_csv(\"results-full.csv\", sep='\\t')\n",
        "\n",
        "    print(metrics_df)\n",
        "\n",
        "\n",
        "def get_cmap_iterator(n, color_name):\n",
        "    cmap = plt.cm.get_cmap(color_name, n)\n",
        "    list = [matplotlib.colors.to_hex(cmap(i)) for i in range(n)]\n",
        "    return iter(reversed(list))\n",
        "\n",
        "\n",
        "def draw_plots(results: pd.DataFrame):\n",
        "    results.replace({np.nan: None}, inplace=True)\n",
        "\n",
        "    print(results)\n",
        "\n",
        "    draw_recall_precision_plot(results)\n",
        "    draw_best_f1_plot(results)\n",
        "    draw_n_estimators_plot(results)\n",
        "\n",
        "\n",
        "def draw_n_estimators_plot(results: pd.DataFrame):\n",
        "    overs = results[(results[\"sampling\"] == \"SamplingMethod.OVER\") & (results[\"param\"] == \"n_estimators\")]\n",
        "\n",
        "    plt.figure()\n",
        "\n",
        "    for val, group in overs.groupby(\"sampling_strategy\"):\n",
        "        plt.plot(group[\"value\"], group[\"mean_f1\"], label=f\"Sampling strategy = {val}\", marker=\"o\")\n",
        "\n",
        "    plt.xlabel(\"n_estimators - liczba drzew\")\n",
        "    plt.ylabel(\"F1 - średnia z 5 walidacji krzyżowych\\n\")\n",
        "    plt.title(\"F1 vs. n_estimators dla SMOTE oversampling\")\n",
        "    plt.tight_layout()\n",
        "    plt.legend()\n",
        "    plt.show()\n",
        "\n",
        "\n",
        "def draw_recall_precision_plot(results: pd.DataFrame):\n",
        "    filtered_results = results[(results[\"value\"] == \"100\") | (results[\"param\"] == \"class_weight\")]\n",
        "\n",
        "    cmaps = [get_cmap_iterator(4, 'Purples'),\n",
        "             get_cmap_iterator(5, 'Oranges'), get_cmap_iterator(4, 'Greens')]\n",
        "\n",
        "    for sampling_method, group_sm in filtered_results.groupby(\"sampling\"):\n",
        "        sampling_strategy = SamplingMethod.from_string(sampling_method)\n",
        "        if sampling_strategy == SamplingMethod.NONE:\n",
        "            for value, group_val in group_sm[group_sm[\"param\"] == \"class_weight\"].groupby(\"value\", dropna=False):\n",
        "                cmap = cmaps[sampling_strategy.value]\n",
        "                color = next(cmap)\n",
        "                plt.scatter(group_val[\"mean_recall\"], group_val[\"mean_precision\"],\n",
        "                            label=f\"{sampling_strategy.to_string()} (class_weight={value})\", color=color, alpha=0.9)\n",
        "        else:\n",
        "            for strategy, group_strat in group_sm.groupby(\"sampling_strategy\"):\n",
        "                cmap = cmaps[sampling_strategy.value]\n",
        "                color = next(cmap)\n",
        "                plt.scatter(group_strat[\"mean_recall\"], group_strat[\"mean_precision\"],\n",
        "                            label=f\"{sampling_strategy.to_string()} (strategy={strategy})\", color=color)\n",
        "\n",
        "    ax = plt.gca()\n",
        "    ax.set_xlim([0, 1])\n",
        "    ax.set_ylim([0, 1])\n",
        "    plt.xlabel(\"Średni odzysk\")\n",
        "    plt.ylabel(\"Średnia precyzja\")\n",
        "    plt.title(\"Porównanie precyzji i odzysku na podstawie metody próbkowania\\n(pozostałe parametry domyślne)\")\n",
        "    plt.grid(True)\n",
        "    plt.legend(loc=\"lower left\", prop={'size': 8})\n",
        "    plt.rcParams[\"figure.figsize\"] = (30, 30)\n",
        "    plt.show()\n",
        "\n",
        "\n",
        "def draw_best_f1_plot(results: pd.DataFrame):\n",
        "    names = []\n",
        "    values = []\n",
        "    best_f1_ids = results.groupby(\"sampling\")[\"mean_f1\"].idxmax()\n",
        "    for id in best_f1_ids:\n",
        "        entry = results.iloc[id]\n",
        "        names.append(\n",
        "            f\"{SamplingMethod.from_string(entry['sampling']).to_string()}\\nsampling_strategy: {entry['sampling_strategy']}\")\n",
        "        values.append(entry[\"mean_f1\"])\n",
        "\n",
        "        # Put this entry into plot\n",
        "\n",
        "    plt.bar(names, values)\n",
        "    plt.title('Najwyższy współczynnik F1 uzyskany dla poszczególnych strategii próbkowania')\n",
        "    plt.xlabel(\"Strategia\")\n",
        "    plt.ylabel('F1 - średnia z 5 walidacji krzyżowych')\n",
        "    plt.grid(True)\n",
        "    plt.show()\n",
        "\n",
        "\n",
        "def prepare_plots(df: pd.DataFrame):\n",
        "    for param in df[\"param\"].unique():\n",
        "        plot_param(df, param)\n",
        "\n",
        "\n",
        "def plot_param(results, param_name):\n",
        "    subset = results[results[\"param\"] == param_name].copy()\n",
        "    sampling_methods = subset[\"sampling\"].unique()\n",
        "\n",
        "    # Map values to strings for categorical x-axis if needed\n",
        "    subset[\"value_str\"] = subset[\"value\"].astype(str)\n",
        "\n",
        "    # Build plot\n",
        "    plt.figure(figsize=(6, 4))\n",
        "    for sm in sampling_methods:\n",
        "        sm_data = subset[subset[\"sampling\"] == sm]\n",
        "        x = sm_data[\"value_str\"]\n",
        "        y = sm_data[\"mean_avg_precision\"]\n",
        "        yerr = sm_data[\"std_avg_precision\"]\n",
        "        plt.errorbar(x, y, yerr=yerr, marker=\"o\", label=sm, capsize=5)\n",
        "\n",
        "    plt.title(f\"{param_name} vs Average Precision\")\n",
        "    plt.xlabel(param_name)\n",
        "    plt.ylabel(\"Mean AP\")\n",
        "    plt.grid(True, linestyle=\"--\", alpha=0.6)\n",
        "    plt.legend(title=\"Sampling\")\n",
        "    plt.tight_layout()\n",
        "    plt.show()\n"
      ],
      "metadata": {
        "id": "AmM5R9z7oyUw"
      },
      "execution_count": 33,
      "outputs": []
    },
    {
      "cell_type": "markdown",
      "source": [
        "## Metody nadzorowane"
      ],
      "metadata": {
        "id": "BySQyD3OY5Wr"
      }
    },
    {
      "cell_type": "markdown",
      "source": [
        "Trzeba opracować model, jak chcemy badać te kolejne modele i no żeby dla każdego to było spójne:\n",
        "\n",
        "> Add blockquote\n",
        "\n",
        "\n",
        "\n",
        "1. Zawsze odpalamy krzyżową walidację? Żeby już było mniej tych przypadków testowych, że jeszcze porównujemy\n",
        "2. Przypadek undersampling vs oversampling vs bez samplingu\n",
        "3. Badanie poszczególnych parametrów, które mamy wypisane w tabelce.\n",
        "4. Trochę nie wiem jak podejść do tej krzyżowej walidacji i strojenia parametrów, bo pewnie ostatecznie chcemy dostać najlepszy model z najlepszym zestawem parametrów.\n",
        "\n",
        "\n",
        "TODO: Opisać\n"
      ],
      "metadata": {
        "id": "i7-PGMi15ueI"
      }
    },
    {
      "cell_type": "markdown",
      "source": [
        "### SVM z wagami klas"
      ],
      "metadata": {
        "id": "184FtUfFWAWg"
      }
    },
    {
      "cell_type": "markdown",
      "source": [
        "### Las losowy"
      ],
      "metadata": {
        "id": "J3VwmMzXWIPB"
      }
    },
    {
      "cell_type": "markdown",
      "source": [
        "TODO: zaladuj dane\n",
        "\n",
        "\n",
        "Opis wyników:\n",
        "\n",
        "Bez samplingu i default class weight - bardzo wysoka precyzja ale mały odzysk - duzo oszustw przejdzie nie odkrytych\n",
        "\n",
        "undersampling - najwyzszy odzysk - ale slaba precyzja (~20%) - bedzie duzo falszywych alertow\n",
        "\n",
        "oversampling - wysoki odzysk, wysoka precyzja - najlepszy wspolczynnik F1\n",
        "\n",
        "bez samplingu, wykorzystujac class_weight - odzysk sie poprawil\n",
        "\n",
        "Odzysk jest wazny bo okresli jaki procent oszustw **wykrylismy**\n"
      ],
      "metadata": {
        "id": "rRWfy6jf4MJr"
      }
    },
    {
      "cell_type": "code",
      "source": [],
      "metadata": {
        "id": "obWt02wf3YNZ"
      },
      "execution_count": null,
      "outputs": []
    },
    {
      "cell_type": "code",
      "source": [
        "from datetime import datetime\n",
        "\n",
        "import matplotlib\n",
        "import numpy as np\n",
        "import pandas as pd\n",
        "from imblearn.over_sampling import SMOTE\n",
        "from matplotlib import pyplot as plt\n",
        "from sklearn.ensemble import RandomForestClassifier\n",
        "from sklearn.model_selection import train_test_split\n",
        "\n",
        "from lib import prepare_train_test_data_splits, evaluate_model, SamplingMethod, stratified_sample\n",
        "\n",
        "\n",
        "def params_tune(df: pd.DataFrame):\n",
        "    seed = 42\n",
        "\n",
        "    train_df, test_df = train_test_split(\n",
        "        df, test_size=0.20, stratify=df[\"Class\"], random_state=seed\n",
        "    )\n",
        "\n",
        "    stratified_df = stratified_sample(train_df, frac=0.2, seed=42)\n",
        "\n",
        "    parameters_to_test = {\n",
        "        \"n_estimators\": [50, 100, 200, 300],\n",
        "        \"max_features\": [\"sqrt\", \"log2\", 0.3, 0.5, None],\n",
        "        \"class_weight\": [\"balanced\", \"balanced_subsample\", None],  # class_weight testujemy tylko przy braku samplingu!\n",
        "    }\n",
        "\n",
        "    samplings_to_test = [(SamplingMethod.NONE, None), (SamplingMethod.UNDER, 0.5), (SamplingMethod.UNDER, 1.0),\n",
        "                         (SamplingMethod.OVER, 0.5), (SamplingMethod.OVER, 1.0)]\n",
        "\n",
        "    all_results = []\n",
        "\n",
        "    for param_name, param_values in parameters_to_test.items():\n",
        "        for sampling_method, sampling_strategy in samplings_to_test:\n",
        "            for param_value in param_values:\n",
        "                is_class_weight_test = param_name == \"class_weight\"\n",
        "                is_data_sampled = sampling_method != SamplingMethod.NONE\n",
        "                if is_class_weight_test and is_data_sampled:\n",
        "                    print(f\"Pomiń, ponieważ sampling method: {sampling_method} i param_name: {param_name} \")\n",
        "                    # Jezeli dane sa samplowane, nie testujemy zadnych wartosci parametru \"class_weight\"\n",
        "                    continue\n",
        "\n",
        "                k = 5\n",
        "                cv_splits = prepare_train_test_data_splits(stratified_df, sampling_method=sampling_method,\n",
        "                                                           sampling_strategy=sampling_strategy, k=k)\n",
        "                precision_list, recall_list, f1_list, avg_precision_list = [], [], [], []\n",
        "                for fold_id, split in enumerate(cv_splits, 1):\n",
        "                    params = {\n",
        "                        \"random_state\": seed,\n",
        "                        \"n_jobs\": -1,\n",
        "                        param_name: param_value,\n",
        "                    }\n",
        "                    model = RandomForestClassifier(**params)\n",
        "                    print(\n",
        "                        f\"({datetime.now().strftime('%H:%M:%S')}) Fold {fold_id}. {param_name}={param_value}. Sampling method {sampling_method}, sampling strategy {sampling_strategy}, \")\n",
        "                    model.fit(split.x_train, split.y_train)\n",
        "\n",
        "                    metrics_df = evaluate_model(\n",
        "                        model,\n",
        "                        split.x_test,\n",
        "                        split.y_test,\n",
        "                        pos_label=1,\n",
        "                        draw_plot=False,\n",
        "                    )\n",
        "                    precision_list.append(metrics_df[0])\n",
        "                    recall_list.append(metrics_df[1])\n",
        "                    f1_list.append(metrics_df[2])\n",
        "                    avg_precision_list.append(metrics_df[3])\n",
        "\n",
        "                # po 5 foldach – uśredniamy\n",
        "                all_results.append(\n",
        "                    dict(\n",
        "                        sampling=sampling_method,\n",
        "                        sampling_strategy=sampling_strategy,\n",
        "                        param=param_name,\n",
        "                        value=param_value,\n",
        "                        mean_precision=np.mean(precision_list),\n",
        "                        mean_recall=np.mean(recall_list),\n",
        "                        mean_f1=np.mean(f1_list),\n",
        "                        mean_avg_precision=np.mean(avg_precision_list),\n",
        "                        # TODO: Opisac dlaczego ddof=1\n",
        "                        std_avg_precision=np.std(avg_precision_list, ddof=1),\n",
        "                    )\n",
        "                )\n",
        "\n",
        "    results_df = pd.DataFrame(all_results)\n",
        "    results_df.to_csv(\"results.csv\", sep='\\t')\n",
        "\n",
        "    return results_df\n",
        "\n",
        "\n",
        "def train_full(df: pd.DataFrame, best_params, sampling: SamplingMethod):\n",
        "    seed = 42\n",
        "\n",
        "    train_df, test_df = train_test_split(\n",
        "        df, test_size=0.20, stratify=df[\"Class\"], random_state=seed\n",
        "    )\n",
        "\n",
        "    x = train_df.drop(columns=[\"Class\"])\n",
        "    y = train_df[\"Class\"]\n",
        "\n",
        "    x_test = test_df.drop(columns=[\"Class\"])\n",
        "    y_test = test_df[\"Class\"]\n",
        "\n",
        "    x_train, y_train = SMOTE().fit_resample(x, y)\n",
        "\n",
        "    best_params = {\n",
        "        \"random_state\": seed,\n",
        "        \"n_jobs\": -1,\n",
        "        \"n_estimators\": 100,\n",
        "        \"max_features\": \"sqrt\",\n",
        "        \"class_weight\": None,\n",
        "    }\n",
        "    model = RandomForestClassifier(**best_params)\n",
        "\n",
        "    model.fit(x_train, y_train)\n",
        "\n",
        "    metrics_df = evaluate_model(\n",
        "        model,\n",
        "        x_test,\n",
        "        y_test,\n",
        "        pos_label=1,\n",
        "        draw_plot=True,\n",
        "    )\n",
        "\n",
        "    metrics_df.to_csv(\"results-full.csv\", sep='\\t')\n",
        "\n",
        "    print(metrics_df)\n",
        "\n",
        "\n",
        "def get_cmap_iterator(n, color_name):\n",
        "    cmap = plt.cm.get_cmap(color_name, n)\n",
        "    list = [matplotlib.colors.to_hex(cmap(i)) for i in range(n)]\n",
        "    return iter(reversed(list))\n",
        "\n",
        "\n",
        "def draw_plots(results: pd.DataFrame):\n",
        "    results.replace({np.nan: None}, inplace=True)\n",
        "\n",
        "    print(results)\n",
        "\n",
        "    draw_recall_precision_plot(results)\n",
        "    draw_best_f1_plot(results)\n",
        "    draw_n_estimators_plot(results)\n",
        "\n",
        "\n",
        "def draw_n_estimators_plot(results: pd.DataFrame):\n",
        "    overs = results[(results[\"sampling\"] == \"SamplingMethod.OVER\") & (results[\"param\"] == \"n_estimators\")]\n",
        "\n",
        "    plt.figure()\n",
        "\n",
        "    for val, group in overs.groupby(\"sampling_strategy\"):\n",
        "        plt.plot(group[\"value\"], group[\"mean_f1\"], label=f\"Sampling strategy = {val}\", marker=\"o\")\n",
        "\n",
        "    plt.xlabel(\"n_estimators - liczba drzew\")\n",
        "    plt.ylabel(\"F1 - średnia z 5 walidacji krzyżowych\\n\")\n",
        "    plt.title(\"F1 vs. n_estimators dla SMOTE oversampling\")\n",
        "    plt.tight_layout()\n",
        "    plt.legend()\n",
        "    plt.show()\n",
        "\n",
        "\n",
        "def draw_recall_precision_plot(results: pd.DataFrame):\n",
        "    filtered_results = results[(results[\"value\"] == \"100\") | (results[\"param\"] == \"class_weight\")]\n",
        "\n",
        "    cmaps = [get_cmap_iterator(4, 'Purples'),\n",
        "             get_cmap_iterator(5, 'Oranges'), get_cmap_iterator(4, 'Greens')]\n",
        "\n",
        "    for sampling_method, group_sm in filtered_results.groupby(\"sampling\"):\n",
        "        sampling_strategy = SamplingMethod.from_string(sampling_method)\n",
        "        if sampling_strategy == SamplingMethod.NONE:\n",
        "            for value, group_val in group_sm[group_sm[\"param\"] == \"class_weight\"].groupby(\"value\", dropna=False):\n",
        "                cmap = cmaps[sampling_strategy.value]\n",
        "                color = next(cmap)\n",
        "                plt.scatter(group_val[\"mean_recall\"], group_val[\"mean_precision\"],\n",
        "                            label=f\"{sampling_strategy.to_string()} (class_weight={value})\", color=color, alpha=0.9)\n",
        "        else:\n",
        "            for strategy, group_strat in group_sm.groupby(\"sampling_strategy\"):\n",
        "                cmap = cmaps[sampling_strategy.value]\n",
        "                color = next(cmap)\n",
        "                plt.scatter(group_strat[\"mean_recall\"], group_strat[\"mean_precision\"],\n",
        "                            label=f\"{sampling_strategy.to_string()} (strategy={strategy})\", color=color)\n",
        "\n",
        "    ax = plt.gca()\n",
        "    ax.set_xlim([0, 1])\n",
        "    ax.set_ylim([0, 1])\n",
        "    plt.xlabel(\"Średni odzysk\")\n",
        "    plt.ylabel(\"Średnia precyzja\")\n",
        "    plt.title(\"Porównanie precyzji i odzysku na podstawie metody próbkowania\\n(pozostałe parametry domyślne)\")\n",
        "    plt.grid(True)\n",
        "    plt.legend(loc=\"lower left\", prop={'size': 8})\n",
        "    plt.rcParams[\"figure.figsize\"] = (30, 30)\n",
        "    plt.show()\n",
        "\n",
        "\n",
        "def draw_best_f1_plot(results: pd.DataFrame):\n",
        "    names = []\n",
        "    values = []\n",
        "    best_f1_ids = results.groupby(\"sampling\")[\"mean_f1\"].idxmax()\n",
        "    for id in best_f1_ids:\n",
        "        entry = results.iloc[id]\n",
        "        names.append(\n",
        "            f\"{SamplingMethod.from_string(entry['sampling']).to_string()}\\nsampling_strategy: {entry['sampling_strategy']}\")\n",
        "        values.append(entry[\"mean_f1\"])\n",
        "\n",
        "        # Put this entry into plot\n",
        "\n",
        "    plt.bar(names, values)\n",
        "    plt.title('Najwyższy współczynnik F1 uzyskany dla poszczególnych strategii próbkowania')\n",
        "    plt.xlabel(\"Strategia\")\n",
        "    plt.ylabel('F1 - średnia z 5 walidacji krzyżowych')\n",
        "    plt.grid(True)\n",
        "    plt.show()\n",
        "\n",
        "\n",
        "def prepare_plots(df: pd.DataFrame):\n",
        "    for param in df[\"param\"].unique():\n",
        "        plot_param(df, param)\n",
        "\n",
        "\n",
        "def plot_param(results, param_name):\n",
        "    subset = results[results[\"param\"] == param_name].copy()\n",
        "    sampling_methods = subset[\"sampling\"].unique()\n",
        "\n",
        "    # Map values to strings for categorical x-axis if needed\n",
        "    subset[\"value_str\"] = subset[\"value\"].astype(str)\n",
        "\n",
        "    # Build plot\n",
        "    plt.figure(figsize=(6, 4))\n",
        "    for sm in sampling_methods:\n",
        "        sm_data = subset[subset[\"sampling\"] == sm]\n",
        "        x = sm_data[\"value_str\"]\n",
        "        y = sm_data[\"mean_avg_precision\"]\n",
        "        yerr = sm_data[\"std_avg_precision\"]\n",
        "        plt.errorbar(x, y, yerr=yerr, marker=\"o\", label=sm, capsize=5)\n",
        "\n",
        "    plt.title(f\"{param_name} vs Average Precision\")\n",
        "    plt.xlabel(param_name)\n",
        "    plt.ylabel(\"Mean AP\")\n",
        "    plt.grid(True, linestyle=\"--\", alpha=0.6)\n",
        "    plt.legend(title=\"Sampling\")\n",
        "    plt.tight_layout()\n",
        "    plt.show()\n"
      ],
      "metadata": {
        "id": "lgkLPJSK37Kf"
      },
      "execution_count": null,
      "outputs": []
    },
    {
      "cell_type": "markdown",
      "source": [
        "Wyniki:"
      ],
      "metadata": {
        "id": "AP5Izjgy4QWY"
      }
    },
    {
      "cell_type": "markdown",
      "source": [
        "TODO: Wydrukuj wyniki"
      ],
      "metadata": {
        "id": "s91Ym-LM4TFj"
      }
    },
    {
      "cell_type": "code",
      "source": [],
      "metadata": {
        "id": "9iF-Hqqo5bra"
      },
      "execution_count": null,
      "outputs": []
    },
    {
      "cell_type": "markdown",
      "source": [
        "TODO: Wykresy maja byc wygenerowane w python"
      ],
      "metadata": {
        "id": "_fugNV7l5oM9"
      }
    },
    {
      "cell_type": "markdown",
      "source": [
        "![plot_2025-06-09 01-34-43_2.png](data:image/png;base64,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)![plot_2025-06-09 01-34-43_1.png](data:image/png;base64,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)![plot_2025-06-09 01-34-43_0.png](data:image/png;base64,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)"
      ],
      "metadata": {
        "id": "epzrDMaI5dQB"
      }
    },
    {
      "cell_type": "markdown",
      "source": [],
      "metadata": {
        "id": "ONwGjFRL6J8N"
      }
    },
    {
      "cell_type": "markdown",
      "source": [
        "Ostateczne pamaetry modelu dla najlepszych parametrów - do testów uzyto 20% zbioru ktory nie był używany w trakcie procesu\n",
        "\n",
        "   Precision    Recall  F1-Score  Avg. Precision  AUC PR (interpolowane)\n",
        "0   0.961538  0.852273  0.903614        0.891871                0.897822\n",
        "\n"
      ],
      "metadata": {
        "id": "9J56eOvB5xNu"
      }
    },
    {
      "cell_type": "markdown",
      "source": [
        "\n",
        "\n",
        "\n",
        "![myplot.png](data:image/png;base64,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)"
      ],
      "metadata": {
        "id": "0Oy546z73aQF"
      }
    },
    {
      "cell_type": "markdown",
      "source": [
        "### Drzewo decyzyjne z wagami klas\n",
        "\n",
        "\n",
        "\n",
        "\n",
        "\n"
      ],
      "metadata": {
        "id": "-7l594s0WIYM"
      }
    },
    {
      "cell_type": "markdown",
      "source": [
        "### XG Boost"
      ],
      "metadata": {
        "id": "aEYLzNfuWIfc"
      }
    },
    {
      "cell_type": "markdown",
      "source": [
        "## Metody nienadzorowane"
      ],
      "metadata": {
        "id": "yrtINeJ9Y-TP"
      }
    },
    {
      "cell_type": "markdown",
      "source": [
        "### One-Class SVM\n",
        "\n",
        "Tutaj na razie wstępny wywołanie, żeby zobaczyć czy mniej więcej działa metoda do oceny jakości modelu."
      ],
      "metadata": {
        "id": "sVr7sPWuG_qj"
      }
    },
    {
      "cell_type": "markdown",
      "source": [],
      "metadata": {
        "id": "5FLnO6-R6Fw2"
      }
    },
    {
      "cell_type": "code",
      "source": [
        "from sklearn.svm import OneClassSVM\n",
        "\n",
        "# Parametry do badania\n",
        "kernel = ['linear', 'rbf']\n",
        "nu = [0.01, 0.05, 0.1, 0.2]\n",
        "# Tylko dla kernel='rbf'\n",
        "gamma = ['scale', 'auto', 0.01, 0.1, 1.0]\n",
        "\n",
        "def train_ocsvm(data_splits, kernel='rbf', nu=0.05, gamma='scale'):\n",
        "    models = []\n",
        "    for data_split in data_splits:\n",
        "        model = OneClassSVM(kernel=kernel, nu=nu, gamma=gamma)\n",
        "        model.fit(data_split.x_train)\n",
        "        models.append(model)\n",
        "    return models\n",
        "\n",
        "models = train_ocsvm(training_test_data_split)"
      ],
      "metadata": {
        "id": "YDhTQ2ZsyCHe"
      },
      "execution_count": 14,
      "outputs": []
    },
    {
      "cell_type": "code",
      "source": [
        "for i, model in enumerate(models, 1):\n",
        "    print(f\"Model {i}:\")\n",
        "    evaluate_model(model, training_test_data_split[0].x_test, training_test_data_split[0].y_test,\n",
        "                   plot_title=f\"Krzywa PR dla modelu {i} (One-Class SVM)\")"
      ],
      "metadata": {
        "id": "rbeX5fkEyDrM"
      },
      "execution_count": null,
      "outputs": []
    },
    {
      "cell_type": "markdown",
      "source": [
        "### Las izolacyjny"
      ],
      "metadata": {
        "id": "NLpm9wWPHDTc"
      }
    },
    {
      "cell_type": "code",
      "source": [
        "# Parametry do badania\n",
        "n_estimators = [50, 100, 200, 300]\n",
        "max_samples = ['auto', 128, 256, 512]\n",
        "contamination = [0.0001, 0.001, 0.005, 0.01]"
      ],
      "metadata": {
        "id": "TsT05mB3dgM7"
      },
      "execution_count": null,
      "outputs": []
    },
    {
      "cell_type": "markdown",
      "source": [
        "### Lokalny czynnik odstający"
      ],
      "metadata": {
        "id": "ZyRJMd0dHQ96"
      }
    },
    {
      "cell_type": "code",
      "source": [
        "# Parametry do badania\n",
        "n_neighbors = [5, 10, 20, 35, 50]\n",
        "contamination = [0.0001, 0.001, 0.005, 0.01]"
      ],
      "metadata": {
        "id": "6GOZ6zPrdh8L"
      },
      "execution_count": null,
      "outputs": []
    },
    {
      "cell_type": "markdown",
      "source": [
        "### DBSCAN\n"
      ],
      "metadata": {
        "id": "_ukLASdfHVai"
      }
    },
    {
      "cell_type": "code",
      "source": [
        "# Parametry do badania\n",
        "eps = [0.5, 1.0, 1.5, 2.0, 3.0]\n",
        "min_samples = [10, 20, 50, 100]"
      ],
      "metadata": {
        "id": "IYvlACMhdiZq"
      },
      "execution_count": null,
      "outputs": []
    }
  ]
}
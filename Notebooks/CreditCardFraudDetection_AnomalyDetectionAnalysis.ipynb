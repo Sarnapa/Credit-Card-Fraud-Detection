{
  "nbformat": 4,
  "nbformat_minor": 0,
  "metadata": {
    "colab": {
      "provenance": [],
      "toc_visible": true,
      "authorship_tag": "ABX9TyOsC5tJXaOV5D+lqf3gt8/s",
      "include_colab_link": true
    },
    "kernelspec": {
      "name": "python3",
      "display_name": "Python 3"
    },
    "language_info": {
      "name": "python"
    }
  },
  "cells": [
    {
      "cell_type": "markdown",
      "metadata": {
        "id": "view-in-github",
        "colab_type": "text"
      },
      "source": [
        "<a href=\"https://colab.research.google.com/github/Sarnapa/Credit-Card-Fraud-Detection/blob/main/Notebooks/CreditCardFraudDetection_AnomalyDetectionAnalysis.ipynb\" target=\"_parent\"><img src=\"https://colab.research.google.com/assets/colab-badge.svg\" alt=\"Open In Colab\"/></a>"
      ]
    },
    {
      "cell_type": "markdown",
      "source": [
        "---- Załadowanie danych\n"
      ],
      "metadata": {
        "id": "PAXmvEjUYcCk"
      }
    },
    {
      "cell_type": "markdown",
      "source": [
        "# Załadowanie danych\n"
      ],
      "metadata": {
        "id": "0MM0xPqIYedF"
      }
    },
    {
      "cell_type": "markdown",
      "source": [
        "# Analiza danych"
      ],
      "metadata": {
        "id": "I1VMQ9OIYtE2"
      }
    },
    {
      "cell_type": "markdown",
      "source": [
        "# Under / oversampling"
      ],
      "metadata": {
        "id": "iHfsvmDzYxYZ"
      }
    },
    {
      "cell_type": "markdown",
      "source": [
        "# K krotna walidacja"
      ],
      "metadata": {
        "id": "220m7JvCYzvJ"
      }
    },
    {
      "cell_type": "markdown",
      "source": [
        "# Miary jakości"
      ],
      "metadata": {
        "id": "w8EgewnTY3l5"
      }
    },
    {
      "cell_type": "markdown",
      "source": [
        "# Metody nadzorowane"
      ],
      "metadata": {
        "id": "BySQyD3OY5Wr"
      }
    },
    {
      "cell_type": "markdown",
      "source": [
        "# Metody nienadzorowane"
      ],
      "metadata": {
        "id": "yrtINeJ9Y-TP"
      }
    }
  ]
}